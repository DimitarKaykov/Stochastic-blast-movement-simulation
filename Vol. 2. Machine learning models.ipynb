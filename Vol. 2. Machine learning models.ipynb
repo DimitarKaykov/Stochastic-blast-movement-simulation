{
 "cells": [
  {
   "cell_type": "markdown",
   "id": "4a3ec0a1-2d15-4759-a7be-c297994440e1",
   "metadata": {},
   "source": [
    "# Vol. 2. Machine learning-based prediction of blast movement using Quantile regression"
   ]
  },
  {
   "cell_type": "code",
   "execution_count": 1,
   "id": "091f46b8-f8f6-4af6-92b4-49555e0ae061",
   "metadata": {},
   "outputs": [],
   "source": [
    "import numpy as np\n",
    "import pandas as pd\n",
    "import matplotlib.pyplot as plt\n",
    "import time"
   ]
  },
  {
   "cell_type": "markdown",
   "id": "b60b9e7c-055e-4c78-ae4b-8bdc082654a4",
   "metadata": {},
   "source": [
    "## Raw BMM spreadsheet cleaning"
   ]
  },
  {
   "cell_type": "markdown",
   "id": "dc29a30a-bf4f-4e68-988a-1f3c1b1b778d",
   "metadata": {},
   "source": [
    "Now that we are dealing with an almost-ready-to-use file, we just need to do some more cleaning. Let's take a look how the new file looks."
   ]
  },
  {
   "cell_type": "code",
   "execution_count": 2,
   "id": "efde8067-955b-4320-9030-7a77ab09044e",
   "metadata": {},
   "outputs": [
    {
     "data": {
      "text/html": [
       "<div>\n",
       "<style scoped>\n",
       "    .dataframe tbody tr th:only-of-type {\n",
       "        vertical-align: middle;\n",
       "    }\n",
       "\n",
       "    .dataframe tbody tr th {\n",
       "        vertical-align: top;\n",
       "    }\n",
       "\n",
       "    .dataframe thead th {\n",
       "        text-align: right;\n",
       "    }\n",
       "</style>\n",
       "<table border=\"1\" class=\"dataframe\">\n",
       "  <thead>\n",
       "    <tr style=\"text-align: right;\">\n",
       "      <th></th>\n",
       "      <th>elev</th>\n",
       "      <th>bmm_elev</th>\n",
       "      <th>expl_type</th>\n",
       "      <th>confined</th>\n",
       "      <th>bp_h</th>\n",
       "      <th>inst_depth</th>\n",
       "      <th>inst_h</th>\n",
       "      <th>det_depth</th>\n",
       "      <th>det_h</th>\n",
       "      <th>act_dir</th>\n",
       "      <th>...</th>\n",
       "      <th>bp_pf</th>\n",
       "      <th>ideal_dir</th>\n",
       "      <th>voronoi_rock_vol</th>\n",
       "      <th>loc_dh_len</th>\n",
       "      <th>loc_expl_len</th>\n",
       "      <th>loc_stem_len</th>\n",
       "      <th>loc_expl_mass</th>\n",
       "      <th>booster</th>\n",
       "      <th>dist_first</th>\n",
       "      <th>loc_to_first_dir</th>\n",
       "    </tr>\n",
       "  </thead>\n",
       "  <tbody>\n",
       "    <tr>\n",
       "      <th>0</th>\n",
       "      <td>474.667</td>\n",
       "      <td>470.967</td>\n",
       "      <td>ANFO</td>\n",
       "      <td>free face</td>\n",
       "      <td>4.667</td>\n",
       "      <td>3.7</td>\n",
       "      <td>0.967</td>\n",
       "      <td>4.282504</td>\n",
       "      <td>1.061496</td>\n",
       "      <td>161.867800</td>\n",
       "      <td>...</td>\n",
       "      <td>0.318216</td>\n",
       "      <td>NaN</td>\n",
       "      <td>NaN</td>\n",
       "      <td>NaN</td>\n",
       "      <td>NaN</td>\n",
       "      <td>NaN</td>\n",
       "      <td>NaN</td>\n",
       "      <td>NaN</td>\n",
       "      <td>NaN</td>\n",
       "      <td>NaN</td>\n",
       "    </tr>\n",
       "    <tr>\n",
       "      <th>1</th>\n",
       "      <td>474.667</td>\n",
       "      <td>472.967</td>\n",
       "      <td>ANFO</td>\n",
       "      <td>free face</td>\n",
       "      <td>4.667</td>\n",
       "      <td>1.7</td>\n",
       "      <td>2.967</td>\n",
       "      <td>2.033786</td>\n",
       "      <td>3.229214</td>\n",
       "      <td>187.461599</td>\n",
       "      <td>...</td>\n",
       "      <td>0.318216</td>\n",
       "      <td>NaN</td>\n",
       "      <td>NaN</td>\n",
       "      <td>NaN</td>\n",
       "      <td>NaN</td>\n",
       "      <td>NaN</td>\n",
       "      <td>NaN</td>\n",
       "      <td>NaN</td>\n",
       "      <td>NaN</td>\n",
       "      <td>NaN</td>\n",
       "    </tr>\n",
       "    <tr>\n",
       "      <th>2</th>\n",
       "      <td>474.601</td>\n",
       "      <td>470.901</td>\n",
       "      <td>ANFO</td>\n",
       "      <td>free face</td>\n",
       "      <td>4.601</td>\n",
       "      <td>3.7</td>\n",
       "      <td>0.901</td>\n",
       "      <td>5.423375</td>\n",
       "      <td>0.376625</td>\n",
       "      <td>151.617502</td>\n",
       "      <td>...</td>\n",
       "      <td>0.318216</td>\n",
       "      <td>NaN</td>\n",
       "      <td>NaN</td>\n",
       "      <td>NaN</td>\n",
       "      <td>NaN</td>\n",
       "      <td>NaN</td>\n",
       "      <td>NaN</td>\n",
       "      <td>NaN</td>\n",
       "      <td>NaN</td>\n",
       "      <td>NaN</td>\n",
       "    </tr>\n",
       "    <tr>\n",
       "      <th>3</th>\n",
       "      <td>474.601</td>\n",
       "      <td>472.901</td>\n",
       "      <td>ANFO</td>\n",
       "      <td>free face</td>\n",
       "      <td>4.601</td>\n",
       "      <td>1.7</td>\n",
       "      <td>2.901</td>\n",
       "      <td>2.239060</td>\n",
       "      <td>3.802940</td>\n",
       "      <td>188.005486</td>\n",
       "      <td>...</td>\n",
       "      <td>0.318216</td>\n",
       "      <td>NaN</td>\n",
       "      <td>NaN</td>\n",
       "      <td>NaN</td>\n",
       "      <td>NaN</td>\n",
       "      <td>NaN</td>\n",
       "      <td>NaN</td>\n",
       "      <td>NaN</td>\n",
       "      <td>NaN</td>\n",
       "      <td>NaN</td>\n",
       "    </tr>\n",
       "    <tr>\n",
       "      <th>4</th>\n",
       "      <td>475.126</td>\n",
       "      <td>471.426</td>\n",
       "      <td>ANFO</td>\n",
       "      <td>free face</td>\n",
       "      <td>5.126</td>\n",
       "      <td>3.7</td>\n",
       "      <td>1.426</td>\n",
       "      <td>4.148262</td>\n",
       "      <td>1.383738</td>\n",
       "      <td>228.806465</td>\n",
       "      <td>...</td>\n",
       "      <td>0.318216</td>\n",
       "      <td>NaN</td>\n",
       "      <td>NaN</td>\n",
       "      <td>NaN</td>\n",
       "      <td>NaN</td>\n",
       "      <td>NaN</td>\n",
       "      <td>NaN</td>\n",
       "      <td>NaN</td>\n",
       "      <td>NaN</td>\n",
       "      <td>NaN</td>\n",
       "    </tr>\n",
       "  </tbody>\n",
       "</table>\n",
       "<p>5 rows × 29 columns</p>\n",
       "</div>"
      ],
      "text/plain": [
       "      elev  bmm_elev expl_type   confined   bp_h  inst_depth  inst_h  \\\n",
       "0  474.667   470.967      ANFO  free face  4.667         3.7   0.967   \n",
       "1  474.667   472.967      ANFO  free face  4.667         1.7   2.967   \n",
       "2  474.601   470.901      ANFO  free face  4.601         3.7   0.901   \n",
       "3  474.601   472.901      ANFO  free face  4.601         1.7   2.901   \n",
       "4  475.126   471.426      ANFO  free face  5.126         3.7   1.426   \n",
       "\n",
       "   det_depth     det_h     act_dir  ...     bp_pf  ideal_dir  \\\n",
       "0   4.282504  1.061496  161.867800  ...  0.318216        NaN   \n",
       "1   2.033786  3.229214  187.461599  ...  0.318216        NaN   \n",
       "2   5.423375  0.376625  151.617502  ...  0.318216        NaN   \n",
       "3   2.239060  3.802940  188.005486  ...  0.318216        NaN   \n",
       "4   4.148262  1.383738  228.806465  ...  0.318216        NaN   \n",
       "\n",
       "   voronoi_rock_vol  loc_dh_len loc_expl_len  loc_stem_len  loc_expl_mass  \\\n",
       "0               NaN         NaN          NaN           NaN            NaN   \n",
       "1               NaN         NaN          NaN           NaN            NaN   \n",
       "2               NaN         NaN          NaN           NaN            NaN   \n",
       "3               NaN         NaN          NaN           NaN            NaN   \n",
       "4               NaN         NaN          NaN           NaN            NaN   \n",
       "\n",
       "   booster  dist_first  loc_to_first_dir  \n",
       "0      NaN         NaN               NaN  \n",
       "1      NaN         NaN               NaN  \n",
       "2      NaN         NaN               NaN  \n",
       "3      NaN         NaN               NaN  \n",
       "4      NaN         NaN               NaN  \n",
       "\n",
       "[5 rows x 29 columns]"
      ]
     },
     "execution_count": 2,
     "metadata": {},
     "output_type": "execute_result"
    }
   ],
   "source": [
    "df_raw = pd.read_excel('obtained_data.xlsx', usecols=lambda column: column != 'Unnamed: 0')\n",
    "df_raw.iloc[:,3:].head()"
   ]
  },
  {
   "cell_type": "code",
   "execution_count": 3,
   "id": "7d5041f4-c0b2-4029-b48f-6c04d1a6b494",
   "metadata": {},
   "outputs": [
    {
     "data": {
      "text/plain": [
       "(1305, 32)"
      ]
     },
     "execution_count": 3,
     "metadata": {},
     "output_type": "execute_result"
    }
   ],
   "source": [
    "df_raw.shape"
   ]
  },
  {
   "cell_type": "markdown",
   "id": "176e2b62-0ec0-401b-9a25-c950ec66383e",
   "metadata": {},
   "source": [
    "So far, the file has loaded all the necessary data. Now we have to drop the rows with missing information. This is due to having some observations which did not match with the blast design data. I would say that imputing missing blast design features is not be a good idea."
   ]
  },
  {
   "cell_type": "code",
   "execution_count": 4,
   "id": "ef2ed28d-be33-4263-9434-e9bfc9ea07e5",
   "metadata": {},
   "outputs": [],
   "source": [
    "df_raw = df_raw.dropna().reset_index(drop=True)"
   ]
  },
  {
   "cell_type": "markdown",
   "id": "594f6bdb-b63e-4dd4-9c95-0e0b7cf464e3",
   "metadata": {},
   "source": [
    "Once more, we load the gas products dictionary for both explosive types."
   ]
  },
  {
   "cell_type": "code",
   "execution_count": 5,
   "id": "244df8e4-64a1-4514-b8ce-24ae3addca7e",
   "metadata": {},
   "outputs": [],
   "source": [
    "expl_gas_prod_dict = {\n",
    "    'ANFO': 988,\n",
    "    'Riogel': 933\n",
    "}"
   ]
  },
  {
   "cell_type": "markdown",
   "id": "5e2ebff1-398b-4f16-806e-8f3a72da2ad6",
   "metadata": {},
   "source": [
    "Some additional features were engineered and introduced as columns to the dataframe including:\n",
    "- Post-blast panel height (m)\n",
    "- Horizontal movement deviation angle (°) - Angle deviating from ideal movement direction\n",
    "- Horizontal movement towards free face (m) - Horizontal movement vector major component, following the ideal movement direction\n",
    "- Horizontal movement deviation (m) - Horizontal movement vector minor component, orthogonal to the ideal movement direction\n",
    "- Local powder factor (kg/m³) - Ratio between of explosives mass and Voronoi rockmass in proximity to monitoring location\n",
    "- Local gas products factor (l/m³) - Ratio between volume of explosive gas products and Voronoi rockmass in proximity to monitoring location\n",
    "- Total ammount of gas products in proximity to monitoring location (l)\n",
    "- Distance towards free face (m) - Distance to first row drillholes"
   ]
  },
  {
   "cell_type": "code",
   "execution_count": 6,
   "id": "5a51ec0b-cb34-45b4-b545-3af2ccf6a3a8",
   "metadata": {},
   "outputs": [],
   "source": [
    "df_raw['bp_post_h'] = df_raw['det_h'] + df_raw['det_depth']"
   ]
  },
  {
   "cell_type": "code",
   "execution_count": 7,
   "id": "55df61b0-e3c0-4bef-b116-008cfd8f1313",
   "metadata": {},
   "outputs": [],
   "source": [
    "df_raw['h_dev_angle'] = np.abs(df_raw['ideal_dir'] - df_raw['act_dir'])\n",
    "df_raw['h_dev_angle'] = df_raw.apply(\n",
    "    lambda row: -row['h_dev_angle'] if (0 <= row['loc_to_first_dir'] < 90 or 180 <= row['loc_to_first_dir'] < 270) \n",
    "    else row['h_dev_angle'], \n",
    "    axis=1\n",
    ")"
   ]
  },
  {
   "cell_type": "code",
   "execution_count": 8,
   "id": "f2a6da69-b15c-4eb8-8c67-681e06ea1132",
   "metadata": {},
   "outputs": [],
   "source": [
    "df_raw['m_h_ff'] = np.cos(np.deg2rad(df_raw['h_dev_angle'] )) * df_raw['m_h']\n",
    "df_raw['m_h_dev'] = np.sin(np.deg2rad(df_raw['h_dev_angle'] )) * df_raw['m_h']"
   ]
  },
  {
   "cell_type": "code",
   "execution_count": 9,
   "id": "bb3d9454-fadc-4421-afe9-0881b58ad5a3",
   "metadata": {},
   "outputs": [],
   "source": [
    "df_raw['loc_pf'] = df_raw['loc_expl_mass'] / df_raw['voronoi_rock_vol']\n",
    "df_raw['loc_gpf'] = df_raw['loc_pf'] * df_raw['expl_type'].map(expl_gas_prod_dict)\n",
    "df_raw['loc_gp_vol'] = df_raw['loc_expl_mass'] * df_raw['expl_type'].map(expl_gas_prod_dict)"
   ]
  },
  {
   "cell_type": "code",
   "execution_count": 10,
   "id": "1c2a61f0-5b66-41ef-af4a-8a032dac751c",
   "metadata": {},
   "outputs": [],
   "source": [
    "df_raw['dist_ff'] = np.abs(df_raw['dist_first'] * np.cos(np.radians(df_raw['loc_to_first_dir'])))"
   ]
  },
  {
   "cell_type": "code",
   "execution_count": 11,
   "id": "9c964a4c-4400-468e-b676-94843b9cea8b",
   "metadata": {},
   "outputs": [
    {
     "data": {
      "text/html": [
       "<div>\n",
       "<style scoped>\n",
       "    .dataframe tbody tr th:only-of-type {\n",
       "        vertical-align: middle;\n",
       "    }\n",
       "\n",
       "    .dataframe tbody tr th {\n",
       "        vertical-align: top;\n",
       "    }\n",
       "\n",
       "    .dataframe thead th {\n",
       "        text-align: right;\n",
       "    }\n",
       "</style>\n",
       "<table border=\"1\" class=\"dataframe\">\n",
       "  <thead>\n",
       "    <tr style=\"text-align: right;\">\n",
       "      <th></th>\n",
       "      <th>elev</th>\n",
       "      <th>bmm_elev</th>\n",
       "      <th>expl_type</th>\n",
       "      <th>confined</th>\n",
       "      <th>bp_h</th>\n",
       "      <th>inst_depth</th>\n",
       "      <th>inst_h</th>\n",
       "      <th>det_depth</th>\n",
       "      <th>det_h</th>\n",
       "      <th>act_dir</th>\n",
       "      <th>...</th>\n",
       "      <th>dist_first</th>\n",
       "      <th>loc_to_first_dir</th>\n",
       "      <th>bp_post_h</th>\n",
       "      <th>h_dev_angle</th>\n",
       "      <th>m_h_ff</th>\n",
       "      <th>m_h_dev</th>\n",
       "      <th>loc_pf</th>\n",
       "      <th>loc_gpf</th>\n",
       "      <th>loc_gp_vol</th>\n",
       "      <th>dist_ff</th>\n",
       "    </tr>\n",
       "  </thead>\n",
       "  <tbody>\n",
       "    <tr>\n",
       "      <th>0</th>\n",
       "      <td>474.938</td>\n",
       "      <td>471.138</td>\n",
       "      <td>ANFO</td>\n",
       "      <td>free face</td>\n",
       "      <td>4.938</td>\n",
       "      <td>3.8</td>\n",
       "      <td>1.138</td>\n",
       "      <td>4.626556</td>\n",
       "      <td>0.677444</td>\n",
       "      <td>141.107178</td>\n",
       "      <td>...</td>\n",
       "      <td>33.382023</td>\n",
       "      <td>-81.043613</td>\n",
       "      <td>5.304</td>\n",
       "      <td>0.613786</td>\n",
       "      <td>1.036787</td>\n",
       "      <td>0.011107</td>\n",
       "      <td>0.357001</td>\n",
       "      <td>352.717385</td>\n",
       "      <td>109053.0688</td>\n",
       "      <td>5.197</td>\n",
       "    </tr>\n",
       "    <tr>\n",
       "      <th>1</th>\n",
       "      <td>474.938</td>\n",
       "      <td>473.238</td>\n",
       "      <td>ANFO</td>\n",
       "      <td>free face</td>\n",
       "      <td>4.938</td>\n",
       "      <td>1.7</td>\n",
       "      <td>3.238</td>\n",
       "      <td>1.983379</td>\n",
       "      <td>3.466621</td>\n",
       "      <td>146.309932</td>\n",
       "      <td>...</td>\n",
       "      <td>33.382023</td>\n",
       "      <td>-81.043613</td>\n",
       "      <td>5.450</td>\n",
       "      <td>4.588968</td>\n",
       "      <td>1.484319</td>\n",
       "      <td>0.119138</td>\n",
       "      <td>0.357001</td>\n",
       "      <td>352.717385</td>\n",
       "      <td>109053.0688</td>\n",
       "      <td>5.197</td>\n",
       "    </tr>\n",
       "    <tr>\n",
       "      <th>2</th>\n",
       "      <td>475.110</td>\n",
       "      <td>471.510</td>\n",
       "      <td>ANFO</td>\n",
       "      <td>free face</td>\n",
       "      <td>5.110</td>\n",
       "      <td>3.6</td>\n",
       "      <td>1.510</td>\n",
       "      <td>4.491994</td>\n",
       "      <td>1.098006</td>\n",
       "      <td>136.568421</td>\n",
       "      <td>...</td>\n",
       "      <td>33.619441</td>\n",
       "      <td>-45.097612</td>\n",
       "      <td>5.590</td>\n",
       "      <td>6.737284</td>\n",
       "      <td>1.180178</td>\n",
       "      <td>0.139418</td>\n",
       "      <td>0.353972</td>\n",
       "      <td>349.723846</td>\n",
       "      <td>130457.8912</td>\n",
       "      <td>23.732</td>\n",
       "    </tr>\n",
       "    <tr>\n",
       "      <th>3</th>\n",
       "      <td>475.110</td>\n",
       "      <td>473.410</td>\n",
       "      <td>ANFO</td>\n",
       "      <td>free face</td>\n",
       "      <td>5.110</td>\n",
       "      <td>1.7</td>\n",
       "      <td>3.410</td>\n",
       "      <td>2.319462</td>\n",
       "      <td>3.435538</td>\n",
       "      <td>143.513696</td>\n",
       "      <td>...</td>\n",
       "      <td>33.619441</td>\n",
       "      <td>-45.097612</td>\n",
       "      <td>5.755</td>\n",
       "      <td>0.207990</td>\n",
       "      <td>1.643026</td>\n",
       "      <td>0.005964</td>\n",
       "      <td>0.353972</td>\n",
       "      <td>349.723846</td>\n",
       "      <td>130457.8912</td>\n",
       "      <td>23.732</td>\n",
       "    </tr>\n",
       "    <tr>\n",
       "      <th>4</th>\n",
       "      <td>474.824</td>\n",
       "      <td>471.224</td>\n",
       "      <td>ANFO</td>\n",
       "      <td>free face</td>\n",
       "      <td>4.824</td>\n",
       "      <td>3.6</td>\n",
       "      <td>1.224</td>\n",
       "      <td>3.974748</td>\n",
       "      <td>1.129252</td>\n",
       "      <td>136.533220</td>\n",
       "      <td>...</td>\n",
       "      <td>49.921806</td>\n",
       "      <td>-31.932997</td>\n",
       "      <td>5.104</td>\n",
       "      <td>22.063049</td>\n",
       "      <td>1.494023</td>\n",
       "      <td>0.605538</td>\n",
       "      <td>0.352243</td>\n",
       "      <td>348.016277</td>\n",
       "      <td>122536.8976</td>\n",
       "      <td>42.367</td>\n",
       "    </tr>\n",
       "  </tbody>\n",
       "</table>\n",
       "<p>5 rows × 37 columns</p>\n",
       "</div>"
      ],
      "text/plain": [
       "      elev  bmm_elev expl_type   confined   bp_h  inst_depth  inst_h  \\\n",
       "0  474.938   471.138      ANFO  free face  4.938         3.8   1.138   \n",
       "1  474.938   473.238      ANFO  free face  4.938         1.7   3.238   \n",
       "2  475.110   471.510      ANFO  free face  5.110         3.6   1.510   \n",
       "3  475.110   473.410      ANFO  free face  5.110         1.7   3.410   \n",
       "4  474.824   471.224      ANFO  free face  4.824         3.6   1.224   \n",
       "\n",
       "   det_depth     det_h     act_dir  ...  dist_first  loc_to_first_dir  \\\n",
       "0   4.626556  0.677444  141.107178  ...   33.382023        -81.043613   \n",
       "1   1.983379  3.466621  146.309932  ...   33.382023        -81.043613   \n",
       "2   4.491994  1.098006  136.568421  ...   33.619441        -45.097612   \n",
       "3   2.319462  3.435538  143.513696  ...   33.619441        -45.097612   \n",
       "4   3.974748  1.129252  136.533220  ...   49.921806        -31.932997   \n",
       "\n",
       "   bp_post_h  h_dev_angle    m_h_ff   m_h_dev    loc_pf     loc_gpf  \\\n",
       "0      5.304     0.613786  1.036787  0.011107  0.357001  352.717385   \n",
       "1      5.450     4.588968  1.484319  0.119138  0.357001  352.717385   \n",
       "2      5.590     6.737284  1.180178  0.139418  0.353972  349.723846   \n",
       "3      5.755     0.207990  1.643026  0.005964  0.353972  349.723846   \n",
       "4      5.104    22.063049  1.494023  0.605538  0.352243  348.016277   \n",
       "\n",
       "    loc_gp_vol  dist_ff  \n",
       "0  109053.0688    5.197  \n",
       "1  109053.0688    5.197  \n",
       "2  130457.8912   23.732  \n",
       "3  130457.8912   23.732  \n",
       "4  122536.8976   42.367  \n",
       "\n",
       "[5 rows x 37 columns]"
      ]
     },
     "execution_count": 11,
     "metadata": {},
     "output_type": "execute_result"
    }
   ],
   "source": [
    "df_raw.iloc[:,3:].head()"
   ]
  },
  {
   "cell_type": "code",
   "execution_count": 12,
   "id": "836d34ff-ffe6-4bd7-90c1-34a4ba55df69",
   "metadata": {},
   "outputs": [
    {
     "data": {
      "text/plain": [
       "(1187, 40)"
      ]
     },
     "execution_count": 12,
     "metadata": {},
     "output_type": "execute_result"
    }
   ],
   "source": [
    "df_raw.shape"
   ]
  },
  {
   "cell_type": "markdown",
   "id": "65824a8a-02dc-405e-ae29-14fd9b2f6154",
   "metadata": {},
   "source": [
    "ALthoug missing values were dropped and no imputations were meade, we still have lots of data to analyze. "
   ]
  },
  {
   "cell_type": "code",
   "execution_count": 13,
   "id": "b8304040-6e38-4ce1-bc5d-e68e3ad8b439",
   "metadata": {},
   "outputs": [
    {
     "data": {
      "text/plain": [
       "Index(['bp_id', 'east', 'north', 'elev', 'bmm_elev', 'expl_type', 'confined',\n",
       "       'bp_h', 'inst_depth', 'inst_h', 'det_depth', 'det_h', 'act_dir',\n",
       "       'act_incl', 'm_3d', 'm_h', 'm_v', 'date', 'bp_drill_m', 'bp_vol',\n",
       "       'bp_mass', 'bp_expl_mass', 'bp_pf', 'ideal_dir', 'voronoi_rock_vol',\n",
       "       'loc_dh_len', 'loc_expl_len', 'loc_stem_len', 'loc_expl_mass',\n",
       "       'booster', 'dist_first', 'loc_to_first_dir', 'bp_post_h', 'h_dev_angle',\n",
       "       'm_h_ff', 'm_h_dev', 'loc_pf', 'loc_gpf', 'loc_gp_vol', 'dist_ff'],\n",
       "      dtype='object')"
      ]
     },
     "execution_count": 13,
     "metadata": {},
     "output_type": "execute_result"
    }
   ],
   "source": [
    "df_raw.columns"
   ]
  },
  {
   "cell_type": "markdown",
   "id": "dd505f9b-81b5-40f7-863c-97be30c398c6",
   "metadata": {},
   "source": [
    "Additional conditions for outliers were adopted for this analysis, which refer not only to movement results, but also to engineering conditions.\n",
    "\n",
    "They include the following criteria:\n",
    "- Blastes which do not employ boosters are disregarde, as no blast can occur without a booster.\n",
    "- Installation height below 0.1 m are considered outliers\n",
    "- Distances from the free face lower than 5 m and above 110 m are considered outliers as they have singular observations (this may have to be relaxed in the future when additional data is collected)\n",
    "- Horizontal movement deviation angle is constrained between -90° and 90° as backwards movement is considered highly improbable.\n",
    "-  Horizontal movement above 3.5 m is considered to be highly irregular and rare and hence samples are deemed outlers\n",
    "-  Vertical movement vectors with values below -1 m and above 2 m are considered to be highly irregular and rare and hence samples are deemed outlers\n",
    "-  Horizontal movement deviation vectors with values below -1 m and above 1.5 m are considered to be highly irregular and rare and hence samples are deemed outlers"
   ]
  },
  {
   "cell_type": "code",
   "execution_count": 14,
   "id": "5be4b052-e196-4041-b641-bbe9c43ed5f4",
   "metadata": {},
   "outputs": [
    {
     "data": {
      "text/html": [
       "<div>\n",
       "<style scoped>\n",
       "    .dataframe tbody tr th:only-of-type {\n",
       "        vertical-align: middle;\n",
       "    }\n",
       "\n",
       "    .dataframe tbody tr th {\n",
       "        vertical-align: top;\n",
       "    }\n",
       "\n",
       "    .dataframe thead th {\n",
       "        text-align: right;\n",
       "    }\n",
       "</style>\n",
       "<table border=\"1\" class=\"dataframe\">\n",
       "  <thead>\n",
       "    <tr style=\"text-align: right;\">\n",
       "      <th></th>\n",
       "      <th>elev</th>\n",
       "      <th>bmm_elev</th>\n",
       "      <th>expl_type</th>\n",
       "      <th>confined</th>\n",
       "      <th>bp_h</th>\n",
       "      <th>inst_depth</th>\n",
       "      <th>inst_h</th>\n",
       "      <th>det_depth</th>\n",
       "      <th>det_h</th>\n",
       "      <th>act_dir</th>\n",
       "      <th>...</th>\n",
       "      <th>dist_first</th>\n",
       "      <th>loc_to_first_dir</th>\n",
       "      <th>bp_post_h</th>\n",
       "      <th>h_dev_angle</th>\n",
       "      <th>m_h_ff</th>\n",
       "      <th>m_h_dev</th>\n",
       "      <th>loc_pf</th>\n",
       "      <th>loc_gpf</th>\n",
       "      <th>loc_gp_vol</th>\n",
       "      <th>dist_ff</th>\n",
       "    </tr>\n",
       "  </thead>\n",
       "  <tbody>\n",
       "    <tr>\n",
       "      <th>0</th>\n",
       "      <td>474.938</td>\n",
       "      <td>471.138</td>\n",
       "      <td>ANFO</td>\n",
       "      <td>free face</td>\n",
       "      <td>4.938</td>\n",
       "      <td>3.8</td>\n",
       "      <td>1.138</td>\n",
       "      <td>4.626556</td>\n",
       "      <td>0.677444</td>\n",
       "      <td>141.107178</td>\n",
       "      <td>...</td>\n",
       "      <td>33.382023</td>\n",
       "      <td>-81.043613</td>\n",
       "      <td>5.304</td>\n",
       "      <td>0.613786</td>\n",
       "      <td>1.036787</td>\n",
       "      <td>0.011107</td>\n",
       "      <td>0.357001</td>\n",
       "      <td>352.717385</td>\n",
       "      <td>109053.0688</td>\n",
       "      <td>5.197</td>\n",
       "    </tr>\n",
       "    <tr>\n",
       "      <th>1</th>\n",
       "      <td>474.938</td>\n",
       "      <td>473.238</td>\n",
       "      <td>ANFO</td>\n",
       "      <td>free face</td>\n",
       "      <td>4.938</td>\n",
       "      <td>1.7</td>\n",
       "      <td>3.238</td>\n",
       "      <td>1.983379</td>\n",
       "      <td>3.466621</td>\n",
       "      <td>146.309932</td>\n",
       "      <td>...</td>\n",
       "      <td>33.382023</td>\n",
       "      <td>-81.043613</td>\n",
       "      <td>5.450</td>\n",
       "      <td>4.588968</td>\n",
       "      <td>1.484319</td>\n",
       "      <td>0.119138</td>\n",
       "      <td>0.357001</td>\n",
       "      <td>352.717385</td>\n",
       "      <td>109053.0688</td>\n",
       "      <td>5.197</td>\n",
       "    </tr>\n",
       "    <tr>\n",
       "      <th>2</th>\n",
       "      <td>475.110</td>\n",
       "      <td>471.510</td>\n",
       "      <td>ANFO</td>\n",
       "      <td>free face</td>\n",
       "      <td>5.110</td>\n",
       "      <td>3.6</td>\n",
       "      <td>1.510</td>\n",
       "      <td>4.491994</td>\n",
       "      <td>1.098006</td>\n",
       "      <td>136.568421</td>\n",
       "      <td>...</td>\n",
       "      <td>33.619441</td>\n",
       "      <td>-45.097612</td>\n",
       "      <td>5.590</td>\n",
       "      <td>6.737284</td>\n",
       "      <td>1.180178</td>\n",
       "      <td>0.139418</td>\n",
       "      <td>0.353972</td>\n",
       "      <td>349.723846</td>\n",
       "      <td>130457.8912</td>\n",
       "      <td>23.732</td>\n",
       "    </tr>\n",
       "    <tr>\n",
       "      <th>3</th>\n",
       "      <td>475.110</td>\n",
       "      <td>473.410</td>\n",
       "      <td>ANFO</td>\n",
       "      <td>free face</td>\n",
       "      <td>5.110</td>\n",
       "      <td>1.7</td>\n",
       "      <td>3.410</td>\n",
       "      <td>2.319462</td>\n",
       "      <td>3.435538</td>\n",
       "      <td>143.513696</td>\n",
       "      <td>...</td>\n",
       "      <td>33.619441</td>\n",
       "      <td>-45.097612</td>\n",
       "      <td>5.755</td>\n",
       "      <td>0.207990</td>\n",
       "      <td>1.643026</td>\n",
       "      <td>0.005964</td>\n",
       "      <td>0.353972</td>\n",
       "      <td>349.723846</td>\n",
       "      <td>130457.8912</td>\n",
       "      <td>23.732</td>\n",
       "    </tr>\n",
       "    <tr>\n",
       "      <th>4</th>\n",
       "      <td>474.824</td>\n",
       "      <td>471.224</td>\n",
       "      <td>ANFO</td>\n",
       "      <td>free face</td>\n",
       "      <td>4.824</td>\n",
       "      <td>3.6</td>\n",
       "      <td>1.224</td>\n",
       "      <td>3.974748</td>\n",
       "      <td>1.129252</td>\n",
       "      <td>136.533220</td>\n",
       "      <td>...</td>\n",
       "      <td>49.921806</td>\n",
       "      <td>-31.932997</td>\n",
       "      <td>5.104</td>\n",
       "      <td>22.063049</td>\n",
       "      <td>1.494023</td>\n",
       "      <td>0.605538</td>\n",
       "      <td>0.352243</td>\n",
       "      <td>348.016277</td>\n",
       "      <td>122536.8976</td>\n",
       "      <td>42.367</td>\n",
       "    </tr>\n",
       "  </tbody>\n",
       "</table>\n",
       "<p>5 rows × 37 columns</p>\n",
       "</div>"
      ],
      "text/plain": [
       "      elev  bmm_elev expl_type   confined   bp_h  inst_depth  inst_h  \\\n",
       "0  474.938   471.138      ANFO  free face  4.938         3.8   1.138   \n",
       "1  474.938   473.238      ANFO  free face  4.938         1.7   3.238   \n",
       "2  475.110   471.510      ANFO  free face  5.110         3.6   1.510   \n",
       "3  475.110   473.410      ANFO  free face  5.110         1.7   3.410   \n",
       "4  474.824   471.224      ANFO  free face  4.824         3.6   1.224   \n",
       "\n",
       "   det_depth     det_h     act_dir  ...  dist_first  loc_to_first_dir  \\\n",
       "0   4.626556  0.677444  141.107178  ...   33.382023        -81.043613   \n",
       "1   1.983379  3.466621  146.309932  ...   33.382023        -81.043613   \n",
       "2   4.491994  1.098006  136.568421  ...   33.619441        -45.097612   \n",
       "3   2.319462  3.435538  143.513696  ...   33.619441        -45.097612   \n",
       "4   3.974748  1.129252  136.533220  ...   49.921806        -31.932997   \n",
       "\n",
       "   bp_post_h  h_dev_angle    m_h_ff   m_h_dev    loc_pf     loc_gpf  \\\n",
       "0      5.304     0.613786  1.036787  0.011107  0.357001  352.717385   \n",
       "1      5.450     4.588968  1.484319  0.119138  0.357001  352.717385   \n",
       "2      5.590     6.737284  1.180178  0.139418  0.353972  349.723846   \n",
       "3      5.755     0.207990  1.643026  0.005964  0.353972  349.723846   \n",
       "4      5.104    22.063049  1.494023  0.605538  0.352243  348.016277   \n",
       "\n",
       "    loc_gp_vol  dist_ff  \n",
       "0  109053.0688    5.197  \n",
       "1  109053.0688    5.197  \n",
       "2  130457.8912   23.732  \n",
       "3  130457.8912   23.732  \n",
       "4  122536.8976   42.367  \n",
       "\n",
       "[5 rows x 37 columns]"
      ]
     },
     "execution_count": 14,
     "metadata": {},
     "output_type": "execute_result"
    }
   ],
   "source": [
    "conditions = (df_raw['booster'] > 0.400) \\\n",
    "            & (df_raw['inst_h'] > 0.1) \\\n",
    "            & (df_raw['dist_ff'] >= 5) & (df_raw['dist_ff'] <= 110) \\\n",
    "            & (df_raw['loc_gpf'] <= 700) \\\n",
    "            & (df_raw['h_dev_angle'] <= 90) & (df_raw['h_dev_angle'] >= -90)\\\n",
    "            & (df_raw['m_h_ff'] >= 0) & (df_raw['m_h_ff'] <= 3.5) \\\n",
    "            & (df_raw['m_v'] >= -1 ) & (df_raw['m_v'] <= 2 ) \\\n",
    "            & (df_raw['m_h_dev'] >= -1) & (df_raw['m_h_dev'] <= 1.5)\n",
    "\n",
    "df = df_raw[conditions].copy()\n",
    "df.iloc[:,3:].head()"
   ]
  },
  {
   "cell_type": "code",
   "execution_count": 15,
   "id": "d60711f2-6b80-4a8d-8e6a-3578b1bc58fa",
   "metadata": {},
   "outputs": [
    {
     "data": {
      "text/plain": [
       "(1106, 40)"
      ]
     },
     "execution_count": 15,
     "metadata": {},
     "output_type": "execute_result"
    }
   ],
   "source": [
    "df.shape"
   ]
  },
  {
   "cell_type": "markdown",
   "id": "29e0cadd-81b5-43fa-b2a5-6807524438a9",
   "metadata": {},
   "source": [
    "Only 81 observations were dropped, which still leaves us with lots of data to analyze and use for predictive modelling."
   ]
  },
  {
   "cell_type": "code",
   "execution_count": 16,
   "id": "b4db4e0f-f771-45a8-8dfc-ef1e2705535c",
   "metadata": {},
   "outputs": [
    {
     "data": {
      "text/html": [
       "<div>\n",
       "<style scoped>\n",
       "    .dataframe tbody tr th:only-of-type {\n",
       "        vertical-align: middle;\n",
       "    }\n",
       "\n",
       "    .dataframe tbody tr th {\n",
       "        vertical-align: top;\n",
       "    }\n",
       "\n",
       "    .dataframe thead th {\n",
       "        text-align: right;\n",
       "    }\n",
       "</style>\n",
       "<table border=\"1\" class=\"dataframe\">\n",
       "  <thead>\n",
       "    <tr style=\"text-align: right;\">\n",
       "      <th></th>\n",
       "      <th>elev</th>\n",
       "      <th>bmm_elev</th>\n",
       "      <th>expl_type</th>\n",
       "      <th>confined</th>\n",
       "      <th>bp_h</th>\n",
       "      <th>inst_depth</th>\n",
       "      <th>inst_h</th>\n",
       "      <th>det_depth</th>\n",
       "      <th>det_h</th>\n",
       "      <th>act_dir</th>\n",
       "      <th>...</th>\n",
       "      <th>dist_first</th>\n",
       "      <th>loc_to_first_dir</th>\n",
       "      <th>bp_post_h</th>\n",
       "      <th>h_dev_angle</th>\n",
       "      <th>m_h_ff</th>\n",
       "      <th>m_h_dev</th>\n",
       "      <th>loc_pf</th>\n",
       "      <th>loc_gpf</th>\n",
       "      <th>loc_gp_vol</th>\n",
       "      <th>dist_ff</th>\n",
       "    </tr>\n",
       "  </thead>\n",
       "  <tbody>\n",
       "    <tr>\n",
       "      <th>0</th>\n",
       "      <td>474.938</td>\n",
       "      <td>471.138</td>\n",
       "      <td>ANFO</td>\n",
       "      <td>free face</td>\n",
       "      <td>4.938</td>\n",
       "      <td>3.8</td>\n",
       "      <td>1.138</td>\n",
       "      <td>4.626556</td>\n",
       "      <td>0.677444</td>\n",
       "      <td>141.107178</td>\n",
       "      <td>...</td>\n",
       "      <td>33.382023</td>\n",
       "      <td>-81.043613</td>\n",
       "      <td>5.304</td>\n",
       "      <td>0.613786</td>\n",
       "      <td>1.036787</td>\n",
       "      <td>0.011107</td>\n",
       "      <td>0.357001</td>\n",
       "      <td>352.717385</td>\n",
       "      <td>109053.0688</td>\n",
       "      <td>5.197</td>\n",
       "    </tr>\n",
       "    <tr>\n",
       "      <th>1</th>\n",
       "      <td>474.938</td>\n",
       "      <td>473.238</td>\n",
       "      <td>ANFO</td>\n",
       "      <td>free face</td>\n",
       "      <td>4.938</td>\n",
       "      <td>1.7</td>\n",
       "      <td>3.238</td>\n",
       "      <td>1.983379</td>\n",
       "      <td>3.466621</td>\n",
       "      <td>146.309932</td>\n",
       "      <td>...</td>\n",
       "      <td>33.382023</td>\n",
       "      <td>-81.043613</td>\n",
       "      <td>5.450</td>\n",
       "      <td>4.588968</td>\n",
       "      <td>1.484319</td>\n",
       "      <td>0.119138</td>\n",
       "      <td>0.357001</td>\n",
       "      <td>352.717385</td>\n",
       "      <td>109053.0688</td>\n",
       "      <td>5.197</td>\n",
       "    </tr>\n",
       "    <tr>\n",
       "      <th>2</th>\n",
       "      <td>475.110</td>\n",
       "      <td>471.510</td>\n",
       "      <td>ANFO</td>\n",
       "      <td>free face</td>\n",
       "      <td>5.110</td>\n",
       "      <td>3.6</td>\n",
       "      <td>1.510</td>\n",
       "      <td>4.491994</td>\n",
       "      <td>1.098006</td>\n",
       "      <td>136.568421</td>\n",
       "      <td>...</td>\n",
       "      <td>33.619441</td>\n",
       "      <td>-45.097612</td>\n",
       "      <td>5.590</td>\n",
       "      <td>6.737284</td>\n",
       "      <td>1.180178</td>\n",
       "      <td>0.139418</td>\n",
       "      <td>0.353972</td>\n",
       "      <td>349.723846</td>\n",
       "      <td>130457.8912</td>\n",
       "      <td>23.732</td>\n",
       "    </tr>\n",
       "    <tr>\n",
       "      <th>3</th>\n",
       "      <td>475.110</td>\n",
       "      <td>473.410</td>\n",
       "      <td>ANFO</td>\n",
       "      <td>free face</td>\n",
       "      <td>5.110</td>\n",
       "      <td>1.7</td>\n",
       "      <td>3.410</td>\n",
       "      <td>2.319462</td>\n",
       "      <td>3.435538</td>\n",
       "      <td>143.513696</td>\n",
       "      <td>...</td>\n",
       "      <td>33.619441</td>\n",
       "      <td>-45.097612</td>\n",
       "      <td>5.755</td>\n",
       "      <td>0.207990</td>\n",
       "      <td>1.643026</td>\n",
       "      <td>0.005964</td>\n",
       "      <td>0.353972</td>\n",
       "      <td>349.723846</td>\n",
       "      <td>130457.8912</td>\n",
       "      <td>23.732</td>\n",
       "    </tr>\n",
       "    <tr>\n",
       "      <th>4</th>\n",
       "      <td>474.824</td>\n",
       "      <td>471.224</td>\n",
       "      <td>ANFO</td>\n",
       "      <td>free face</td>\n",
       "      <td>4.824</td>\n",
       "      <td>3.6</td>\n",
       "      <td>1.224</td>\n",
       "      <td>3.974748</td>\n",
       "      <td>1.129252</td>\n",
       "      <td>136.533220</td>\n",
       "      <td>...</td>\n",
       "      <td>49.921806</td>\n",
       "      <td>-31.932997</td>\n",
       "      <td>5.104</td>\n",
       "      <td>22.063049</td>\n",
       "      <td>1.494023</td>\n",
       "      <td>0.605538</td>\n",
       "      <td>0.352243</td>\n",
       "      <td>348.016277</td>\n",
       "      <td>122536.8976</td>\n",
       "      <td>42.367</td>\n",
       "    </tr>\n",
       "  </tbody>\n",
       "</table>\n",
       "<p>5 rows × 37 columns</p>\n",
       "</div>"
      ],
      "text/plain": [
       "      elev  bmm_elev expl_type   confined   bp_h  inst_depth  inst_h  \\\n",
       "0  474.938   471.138      ANFO  free face  4.938         3.8   1.138   \n",
       "1  474.938   473.238      ANFO  free face  4.938         1.7   3.238   \n",
       "2  475.110   471.510      ANFO  free face  5.110         3.6   1.510   \n",
       "3  475.110   473.410      ANFO  free face  5.110         1.7   3.410   \n",
       "4  474.824   471.224      ANFO  free face  4.824         3.6   1.224   \n",
       "\n",
       "   det_depth     det_h     act_dir  ...  dist_first  loc_to_first_dir  \\\n",
       "0   4.626556  0.677444  141.107178  ...   33.382023        -81.043613   \n",
       "1   1.983379  3.466621  146.309932  ...   33.382023        -81.043613   \n",
       "2   4.491994  1.098006  136.568421  ...   33.619441        -45.097612   \n",
       "3   2.319462  3.435538  143.513696  ...   33.619441        -45.097612   \n",
       "4   3.974748  1.129252  136.533220  ...   49.921806        -31.932997   \n",
       "\n",
       "   bp_post_h  h_dev_angle    m_h_ff   m_h_dev    loc_pf     loc_gpf  \\\n",
       "0      5.304     0.613786  1.036787  0.011107  0.357001  352.717385   \n",
       "1      5.450     4.588968  1.484319  0.119138  0.357001  352.717385   \n",
       "2      5.590     6.737284  1.180178  0.139418  0.353972  349.723846   \n",
       "3      5.755     0.207990  1.643026  0.005964  0.353972  349.723846   \n",
       "4      5.104    22.063049  1.494023  0.605538  0.352243  348.016277   \n",
       "\n",
       "    loc_gp_vol  dist_ff  \n",
       "0  109053.0688    5.197  \n",
       "1  109053.0688    5.197  \n",
       "2  130457.8912   23.732  \n",
       "3  130457.8912   23.732  \n",
       "4  122536.8976   42.367  \n",
       "\n",
       "[5 rows x 37 columns]"
      ]
     },
     "execution_count": 16,
     "metadata": {},
     "output_type": "execute_result"
    }
   ],
   "source": [
    "df.iloc[:,3:].head()"
   ]
  },
  {
   "cell_type": "markdown",
   "id": "49c48181-ad71-4b50-a1b9-ff740a5ccdf8",
   "metadata": {},
   "source": [
    "Everything seems in order. Let's save it just in case!"
   ]
  },
  {
   "cell_type": "code",
   "execution_count": 17,
   "id": "651e9af6-59a8-4fa8-aaf2-101ca9bc6bb6",
   "metadata": {},
   "outputs": [],
   "source": [
    "df.to_excel('new_cleaned_data.xlsx')"
   ]
  },
  {
   "cell_type": "markdown",
   "id": "a51f3cda-f52f-4784-b0be-6c8b454b782b",
   "metadata": {},
   "source": [
    "## Traning and testing quantile regression models"
   ]
  },
  {
   "cell_type": "markdown",
   "id": "27eeb03e-b044-47b6-99c5-0d1463ca653c",
   "metadata": {},
   "source": [
    "As the training and testing of multiple models can be a bit tedious, a few functions were defined to make the process qikcer and easily adjustable."
   ]
  },
  {
   "cell_type": "markdown",
   "id": "6f814ee6-671b-49a9-9c01-155ff67f1a1d",
   "metadata": {},
   "source": [
    "### Defining key analysis and plotting functions"
   ]
  },
  {
   "cell_type": "code",
   "execution_count": 18,
   "id": "19b48539-e153-446f-9ed6-49bb379ce837",
   "metadata": {},
   "outputs": [],
   "source": [
    "from sklearn.model_selection import KFold, train_test_split, cross_val_score, learning_curve\n",
    "from sklearn.experimental import enable_halving_search_cv\n",
    "from sklearn.model_selection import HalvingRandomSearchCV\n",
    "from sklearn.preprocessing import StandardScaler, OneHotEncoder\n",
    "from sklearn.experimental import enable_halving_search_cv, enable_halving_search_cv\n",
    "from sklearn.metrics import make_scorer\n",
    "\n",
    "import warnings\n",
    "warnings.filterwarnings(\"ignore\", message=\"The total space of parameters .* smaller than n_iter=\")"
   ]
  },
  {
   "cell_type": "markdown",
   "id": "c5525e8c-4aef-462d-a2ee-a61b65a78c17",
   "metadata": {},
   "source": [
    "As the osbervations are highly scattered, a binned scatter plot, based on the average and different quantile values is created to make feature selection easier."
   ]
  },
  {
   "cell_type": "code",
   "execution_count": 19,
   "id": "a0e37ea8-81b5-4721-afc7-3bf9399c07e1",
   "metadata": {},
   "outputs": [],
   "source": [
    "def plot_binned_scatterplots(df, feature, target, bin_list, tau=0.5):\n",
    "    \"\"\"\n",
    "    Plots scatterplots with binned data for a range of bin configurations, side by side.\n",
    "    \n",
    "    Parameters:\n",
    "    df (pd.DataFrame): DataFrame containing the data.\n",
    "    feature (str): The name of the feature column.\n",
    "    target (str): The name of the target column.\n",
    "    bin_list (list): List of integers defining the number of bins for each plot.\n",
    "    tau (float): Quantile level (default is 0.5 for median).\n",
    "    \"\"\"\n",
    "    n_plots = len(bin_list)\n",
    "    fig, axes = plt.subplots(1, n_plots, figsize=(6 * n_plots, 4), sharey=True)\n",
    "    \n",
    "    if n_plots == 1:  # If only one plot is requested\n",
    "        axes = [axes]\n",
    "    \n",
    "    for ax, bins in zip(axes, bin_list):\n",
    "        # Define bin edges\n",
    "        bin_edges = np.linspace(df[feature].min(), df[feature].max(), bins + 1)\n",
    "        labels = [f\"{round(bin_edges[i], 2)}-{round(bin_edges[i + 1], 2)}\" for i in range(len(bin_edges) - 1)]\n",
    "\n",
    "        # Bin the feature values\n",
    "        df[f'{feature}_bin'] = pd.cut(df[feature], bins=bin_edges, labels=labels, include_lowest=True)\n",
    "\n",
    "        # Calculate bin centers for all bins\n",
    "        bin_centers = [(bin_edges[i] + bin_edges[i + 1]) / 2 for i in range(len(bin_edges) - 1)]\n",
    "\n",
    "        # Group by bins and compute statistics\n",
    "        grouped = df.groupby(f'{feature}_bin', observed=True)\n",
    "        mean_y = grouped[target].mean()\n",
    "        percentile_y = grouped[target].quantile(tau)\n",
    "\n",
    "        # Filter only valid bins (those that contain data)\n",
    "        valid_bins = mean_y.index[~mean_y.isna()]\n",
    "        valid_bin_centers = [bin_centers[i] for i in range(len(labels)) if labels[i] in valid_bins]\n",
    "\n",
    "        # Drop NaN values to align lengths\n",
    "        mean_y = mean_y.dropna()\n",
    "        percentile_y = percentile_y.dropna()\n",
    "\n",
    "        # Plot\n",
    "        ax.scatter(df[feature], df[target], alpha=0.6, label='Data points', color='gray', s=25)\n",
    "        ax.scatter(valid_bin_centers, mean_y.values, color='red', label='Mean', s=50, zorder=5)\n",
    "        ax.scatter(valid_bin_centers, percentile_y.values, color='blue', label=f'P {tau*100:.1f}', s=50, zorder=5)\n",
    "        ax.set_title(f'Scatter Plot with {bins} Bins')\n",
    "        ax.set_xlabel(feature)\n",
    "        ax.axhline(y=0, color='black', linewidth=0.5, linestyle='--', alpha=0.7)\n",
    "        ax.grid(alpha=0.3)\n",
    "\n",
    "    axes[0].set_ylabel(target)\n",
    "    axes[-1].legend(fontsize=12)\n",
    "    plt.tight_layout()\n",
    "    plt.show()\n"
   ]
  },
  {
   "cell_type": "markdown",
   "id": "f7ba118f-e480-4012-8b90-cde7ac0eebb8",
   "metadata": {},
   "source": [
    "As a quantile regression is the choice of modelling framework, hence, the *quantile loss* function is defined as way to measure loss."
   ]
  },
  {
   "cell_type": "code",
   "execution_count": 20,
   "id": "3b5871a3-0633-487b-8795-105bf8c00357",
   "metadata": {},
   "outputs": [],
   "source": [
    "def quantile_loss_ml(y_true, y_pred, quantile=0.5):\n",
    "    diff = y_true - y_pred\n",
    "    return np.mean(np.maximum(quantile * diff, (1 - quantile) * -diff))"
   ]
  },
  {
   "cell_type": "markdown",
   "id": "bbb0c647-56e1-44d6-9c3d-f14422e7f2b2",
   "metadata": {},
   "source": [
    "This functions provides a way to plot the learning curve for an arbitrary model using k-fold cross validation."
   ]
  },
  {
   "cell_type": "code",
   "execution_count": 21,
   "id": "a3540322-3199-4a93-8ded-a8213091d2cb",
   "metadata": {},
   "outputs": [],
   "source": [
    "def plot_ml_learning_curve(name, model, X_train_scaled, y_train, quantile=0.5, k_folds=5):\n",
    "    '''\n",
    "    Validate model through 5-fold cross validation and plot learning curve\n",
    "    '''    \n",
    "    quantile_loss_scorer = make_scorer(quantile_loss_ml, greater_is_better=False, quantile=quantile)\n",
    "\n",
    "    kf = KFold(n_splits=k_folds, shuffle=True, random_state=42)\n",
    "    cv_scores = cross_val_score(model, X_train_scaled, y_train, cv=kf, scoring=quantile_loss_scorer)\n",
    "    \n",
    "    # Compute learning curve\n",
    "    train_sizes, train_scores, test_scores = learning_curve(\n",
    "        model,\n",
    "        X_train_scaled,  # Features\n",
    "        y_train,  # Target\n",
    "        cv=kf,\n",
    "        scoring=quantile_loss_scorer,\n",
    "        train_sizes=np.linspace(0.1, 1.0, 10),\n",
    "        random_state=42\n",
    "    )\n",
    "    \n",
    "    # Compute mean and standard deviation of scores\n",
    "    train_scores_mean = -np.mean(train_scores, axis=1)\n",
    "    train_scores_std = np.std(train_scores, axis=1)\n",
    "    test_scores_mean = -np.mean(test_scores, axis=1)\n",
    "    test_scores_std = np.std(test_scores, axis=1)\n",
    "    \n",
    "    # Plot the learning curve\n",
    "    plt.figure(figsize=(8, 3))\n",
    "    plt.title(f\"Learning Curve for {name} (Q={quantile:.2f})\")\n",
    "    plt.xlabel(\"Training Set Size\")\n",
    "    plt.ylabel(\"Quantile Loss\")\n",
    "    plt.grid()\n",
    "    \n",
    "    # Plot mean and std deviation for training and test scores\n",
    "    plt.fill_between(train_sizes, train_scores_mean - train_scores_std, train_scores_mean + train_scores_std, alpha=0.1, color=\"r\")\n",
    "    plt.fill_between(train_sizes, test_scores_mean - test_scores_std, test_scores_mean + test_scores_std, alpha=0.1, color=\"g\")\n",
    "    \n",
    "    plt.plot(train_sizes, train_scores_mean, 'o-', color=\"r\", label=\"Training score\")\n",
    "    plt.plot(train_sizes, test_scores_mean, 'o-', color=\"g\", label=\"Cross-validation score\")\n",
    "    \n",
    "    plt.legend(loc=\"best\")\n",
    "    plt.show()\n",
    "    \n",
    "    # Print cross-validation results\n",
    "    cv_scores_mean = -np.mean(cv_scores)\n",
    "    cv_scores_std = np.std(cv_scores)\n",
    "    \n",
    "    print(f\"Cross-validated quantile loss: {cv_scores_mean:.4f} ± {cv_scores_std:.4f}\")"
   ]
  },
  {
   "cell_type": "code",
   "execution_count": 22,
   "id": "bbafd130-712d-4c04-94dc-509367dcbcb9",
   "metadata": {},
   "outputs": [],
   "source": [
    "def test_ml_model(model, X_train, y_train, X_test, y_test, quantile):\n",
    "    y_pred_train = model.predict(X_train)\n",
    "    quantile_loss_train = quantile_loss_ml(y_train, y_pred_train, quantile)\n",
    "    \n",
    "    y_pred_test = model.predict(X_test)\n",
    "    quantile_loss_test = quantile_loss_ml(y_test, y_pred_test, quantile)\n",
    "    \n",
    "    print(f\"Quantile Loss on Train Set: {quantile_loss_train:.4f}\")\n",
    "    print(f\"Quantile Loss on Test Set: {quantile_loss_test:.4f}\")\n",
    "    print()\n",
    "    print()\n",
    "    \n",
    "    return y_pred_test"
   ]
  },
  {
   "cell_type": "code",
   "execution_count": 23,
   "id": "3b4610d3-6db8-4a86-9b8e-f31d5c5e6086",
   "metadata": {},
   "outputs": [],
   "source": [
    "def plot_predict_hist(y_test, predictions, target):\n",
    "    all_predictions = np.concatenate(list(predictions.values()))\n",
    "    \n",
    "    plt.figure(figsize=(7, 3))\n",
    "    plt.hist(all_predictions, bins=25, alpha=0.5, edgecolor='black', label='Predicted', density=True)\n",
    "    plt.hist(y_test, bins=25, alpha=0.5, edgecolor='black', label='Actual', density=True)\n",
    "    plt.title('Histogram of Predicted Results for Quantiles')\n",
    "    plt.xlabel(target)\n",
    "    plt.ylabel('Frequency')\n",
    "    plt.legend()\n",
    "    plt.show()"
   ]
  },
  {
   "cell_type": "code",
   "execution_count": 24,
   "id": "1a1a7cb7-10f3-4587-bc1b-67d713ea7626",
   "metadata": {},
   "outputs": [],
   "source": [
    "def plot_predict_scatter(X_test, y_test, predictions, quantiles, predictors_list, target):\n",
    "    \"\"\"\n",
    "    Plots scatter plots of predictions and true values against predictors.\n",
    "    \"\"\"\n",
    "    all_predictions = np.concatenate(list(predictions.values()))  # Combine predictions for all quantiles\n",
    "    \n",
    "    # Handle cases with a single predictor\n",
    "    if X_test.shape[1] == 1:\n",
    "        predictor_values = np.tile(X_test.values.flatten(), len(quantiles))\n",
    "        \n",
    "        plt.figure(figsize=(7, 3))\n",
    "        plt.scatter(predictor_values, all_predictions, color='tab:blue', alpha=0.2, s=5, label='Predictions')\n",
    "        plt.scatter(X_test.values.flatten(), y_test, color='black', alpha=0.5, s=10, label='True Values')\n",
    "        plt.xlabel(predictors_list[0])\n",
    "        plt.ylabel(target)\n",
    "        plt.legend()\n",
    "        plt.title(f'Scatter Plot for {predictors_list[0]}')\n",
    "    \n",
    "    # Handle cases with multiple predictors\n",
    "    else:\n",
    "        num_predictors = len(predictors_list)\n",
    "        fig, axes = plt.subplots(1, num_predictors, figsize=(5 * num_predictors, 3))\n",
    "        \n",
    "        if num_predictors == 1:  # Single subplot for one predictor\n",
    "            axes = [axes]\n",
    "        \n",
    "        for i, ax in enumerate(axes):\n",
    "            predictor_values = np.tile(X_test.values[:, i], len(quantiles))\n",
    "            ax.scatter(predictor_values, all_predictions, color='tab:blue', alpha=0.2, s=5, label='Predictions')\n",
    "            ax.scatter(X_test.values[:, i], y_test, color='black', alpha=0.5, s=10, label='True Values')\n",
    "            ax.set_xlabel(predictors_list[i])\n",
    "            ax.set_ylabel(target)\n",
    "            ax.legend()\n",
    "            ax.set_title(f'Scatter Plot for {predictors_list[i]}')\n",
    "        \n",
    "        plt.tight_layout()\n",
    "\n",
    "    plt.show()"
   ]
  },
  {
   "cell_type": "markdown",
   "id": "1fcd53a6-00f3-4c83-bc4e-2846ee5522f6",
   "metadata": {},
   "source": [
    "### Defining key models"
   ]
  },
  {
   "cell_type": "markdown",
   "id": "971b356a-f68e-45e5-999a-7672f99dcb31",
   "metadata": {},
   "source": [
    "For the purpose a 5-fold cross validation strategy was used for establishing best hyperparameters of three models:\n",
    "- Linear model\n",
    "- Gradient boosted trees (GBT)\n",
    "- Histogram-based gradient boosted trees (for the sake of speeding up the work and approximating the rsults of GBTs)"
   ]
  },
  {
   "cell_type": "code",
   "execution_count": 25,
   "id": "5ce33fc2-8393-4672-bb1d-7d315b77cec2",
   "metadata": {},
   "outputs": [],
   "source": [
    "from sklearn.linear_model import QuantileRegressor\n",
    "\n",
    "def train_cv_lqr(X_train, y_train, quantile=0.5,  cv=5):\n",
    "    \"\"\"\n",
    "    Trains a Quantile Linear Regression model using Halving Random Search CV with NumPy arrays.\n",
    "    \"\"\"        \n",
    "    quantile_loss_scorer = make_scorer(quantile_loss_ml, greater_is_better=False, quantile=quantile)\n",
    "\n",
    "    # Define the Quantile Regressor model\n",
    "    quantile_reg = QuantileRegressor(quantile=quantile, solver='highs')\n",
    "    \n",
    "    # Define the parameter grid\n",
    "    param_grid = {\n",
    "        'alpha': np.logspace(-10, 1, 100),        # Regularization strength\n",
    "        'solver': ['highs'],\n",
    "        # 'fit_intercept': [True]\n",
    "    }\n",
    "    \n",
    "    # Perform Halving Random Search\n",
    "    quantile_halving_random_search = HalvingRandomSearchCV(\n",
    "        estimator=quantile_reg,\n",
    "        param_distributions=param_grid,\n",
    "        factor=3,\n",
    "        cv=cv,\n",
    "        scoring=quantile_loss_scorer,\n",
    "        random_state=42,\n",
    "        n_jobs=-1\n",
    "    )\n",
    "    \n",
    "    # Fit the search\n",
    "    quantile_halving_random_search.fit(X_train, y_train)\n",
    "\n",
    "    return quantile_halving_random_search"
   ]
  },
  {
   "cell_type": "code",
   "execution_count": 26,
   "id": "d92f11bc-29ee-4025-bf04-25b7e9e401e2",
   "metadata": {},
   "outputs": [],
   "source": [
    "from sklearn.ensemble import GradientBoostingRegressor\n",
    "\n",
    "def train_cv_gt_qr(X_train, y_train, quantile=0.5, cv=5):\n",
    "    \"\"\"\n",
    "    Trains a Decision Tree Ensemble (Gradient Boosting) for Quantile Regression using Halving Random Search CV.\n",
    "    \"\"\"    \n",
    "    quantile_loss_scorer = make_scorer(quantile_loss_ml, greater_is_better=False, quantile=quantile)\n",
    "\n",
    "    # Define the Gradient Boosting Regressor for Quantile Regression\n",
    "    gbr = GradientBoostingRegressor(loss='quantile', alpha=quantile)\n",
    "\n",
    "    # Define the parameter grid for hyperparameter tuning\n",
    "    param_grid = {\n",
    "        'n_estimators': [100],         # Number of boosting stages\n",
    "        'max_depth': [4],                # Maximum depth of trees\n",
    "        'learning_rate': [0.001, 0.01, 0.1, 0.2],     # Shrinkage rate\n",
    "        'min_samples_split': [2, 5, 10],       \n",
    "        'min_samples_leaf': [1, 3, 5],         \n",
    "        'subsample': [0.6, 0.8, 1.0]           \n",
    "    }\n",
    "\n",
    "    # Perform Halving Random Search\n",
    "    halving_search = HalvingRandomSearchCV(\n",
    "        estimator=gbr,\n",
    "        param_distributions=param_grid,\n",
    "        factor=3,\n",
    "        cv=cv,\n",
    "        scoring=quantile_loss_scorer,\n",
    "        random_state=42,\n",
    "        n_jobs=-1\n",
    "    )\n",
    "\n",
    "    # Fit the search to the data\n",
    "    halving_search.fit(X_train, y_train)\n",
    "\n",
    "    return halving_search"
   ]
  },
  {
   "cell_type": "code",
   "execution_count": 27,
   "id": "7f4d3a56-eb95-4bb0-8b19-442c03d376ea",
   "metadata": {},
   "outputs": [],
   "source": [
    "from sklearn.ensemble import HistGradientBoostingRegressor\n",
    "\n",
    "def train_cv_hbgt_qr(X_train, y_train, quantile=0.5, cv=5):\n",
    "    \"\"\"\n",
    "    Trains a Histogram-based Gradient Boosting Regressor using quantile regression\n",
    "    with Halving Random Search CV.\n",
    "    \"\"\"   \n",
    "    quantile_loss_scorer = make_scorer(quantile_loss_ml, greater_is_better=False, quantile=quantile)\n",
    "    \n",
    "    # Define the HistGradientBoostingRegressor with quantile loss\n",
    "    hist_gbr = HistGradientBoostingRegressor(loss='quantile', quantile=quantile, random_state=42)\n",
    "    \n",
    "    # Define the parameter grid\n",
    "    param_grid = {\n",
    "        'max_iter': [50, 100],\n",
    "        'learning_rate': np.logspace(-5, 0, 10),\n",
    "        'max_depth': [5, 10],\n",
    "        'max_bins': [5, 15, 20],\n",
    "        'l2_regularization': np.logspace(-4, 1, 5),\n",
    "    }\n",
    "    \n",
    "    # Perform Halving Random Search\n",
    "    halving_random_search = HalvingRandomSearchCV(\n",
    "        estimator=hist_gbr,\n",
    "        param_distributions=param_grid,\n",
    "        factor=3,\n",
    "        cv=cv,\n",
    "        scoring=quantile_loss_scorer,\n",
    "        random_state=42,\n",
    "        n_jobs=-1,\n",
    "    )\n",
    "    \n",
    "    # Fit the search\n",
    "    halving_random_search.fit(X_train, y_train)\n",
    "    \n",
    "    return halving_random_search"
   ]
  },
  {
   "cell_type": "code",
   "execution_count": 28,
   "id": "2629588a-f6d6-4ff6-aeea-ef37d6081a71",
   "metadata": {},
   "outputs": [],
   "source": [
    "def build_nn_model(X_train, y_train, quantile):\n",
    "    n_features = X_train.shape[1]\n",
    "    model = Sequential([\n",
    "        Input(shape=(n_features,)),\n",
    "        Dense(2, activation='tanh'),\n",
    "        Dropout(0.5),\n",
    "        Dense(1)\n",
    "    ])\n",
    "    model.compile(optimizer=Adam(learning_rate=0.005), loss=lambda y, y_pred: quantile_loss_dl(y, y_pred, quantile))\n",
    "    return model"
   ]
  },
  {
   "cell_type": "code",
   "execution_count": 29,
   "id": "a331f5f6-bb06-4858-a2af-860c8a26bec3",
   "metadata": {},
   "outputs": [],
   "source": [
    "def store_ml_model_data(model_name, X_train_scaled, y_train, X_test_scaled, y_test, k_folds, quantiles):\n",
    "    models = {}\n",
    "    predictions = {}\n",
    "    \n",
    "    for quantile in quantiles:\n",
    "        quantile = np.round(quantile, 2)\n",
    "        if model_name == 'Linear model':\n",
    "            model = train_cv_lqr(X_train_scaled, y_train, quantile)\n",
    "        elif model_name == 'Gradient trees':\n",
    "            model = train_cv_gt_qr(X_train_scaled, y_train, quantile)\n",
    "        elif model_name == 'Histogram-based gradient trees':\n",
    "            model = train_cv_hbgt_qr(X_train_scaled, y_train, quantile)\n",
    "        \n",
    "        best_model = model.best_estimator_\n",
    "        y_pred_quantile = best_model.predict(X_test_scaled)\n",
    "        plot_ml_learning_curve(model_name, best_model, X_train_scaled, y_train, quantile, k_folds)\n",
    "        full_model = best_model.fit(X_train_scaled, y_train)\n",
    "    \n",
    "        y_pred_test = test_ml_model(full_model, X_train_scaled, y_train, X_test_scaled, y_test, quantile)\n",
    "        \n",
    "        models[quantile] = model\n",
    "        predictions[quantile] = y_pred_test\n",
    "\n",
    "    return models, predictions"
   ]
  },
  {
   "cell_type": "code",
   "execution_count": 30,
   "id": "2dad7532-8428-4955-ac18-1a005dfc6233",
   "metadata": {},
   "outputs": [],
   "source": [
    "def store_dl_model_data(X_train_scaled, y_train, X_val_scaled, y_val, X_test_scaled, y_test, quantiles, epochs=35, batch_size=64):\n",
    "    models = {}\n",
    "    predictions = {}\n",
    "    \n",
    "    for quantile in quantiles:\n",
    "        quantile = np.round(quantile, 2)\n",
    "        model = build_nn_model(X_train_scaled, y_train, quantile)\n",
    "        history = model.fit(X_train_scaled, y_train, epochs=epochs, batch_size=batch_size, validation_data=(X_val_scaled, y_val), verbose=0)\n",
    "        plot_dl_learning_curve(history, quantile)\n",
    "        \n",
    "        y_pred_test = test_dl_model(model, X_test_scaled, y_test, quantile)\n",
    "        \n",
    "        models[quantile] = model\n",
    "        predictions[quantile] = y_pred_test\n",
    "\n",
    "    return models, predictions"
   ]
  },
  {
   "cell_type": "markdown",
   "id": "71107eae-78ec-4a0c-a706-5ec929ec4356",
   "metadata": {},
   "source": [
    "### Aim and objectives"
   ]
  },
  {
   "cell_type": "markdown",
   "id": "31064d69-cdfe-403a-a2a7-76db3163ce53",
   "metadata": {},
   "source": [
    "The aim of the study is to establish all 4 blast movement parameters: \n",
    "- Horizontal movement towards free face (m)\n",
    "- Horizontal movement deviation vector (m)\n",
    "- Vertical movement vector (m)\n",
    "- Blast panel height post-blasting (m)\n",
    "\n",
    "  \n",
    "In order to achieve this result, several key objectives need to be solved:\n",
    "1. Evaluate which features affect the 4 parameters of blast movement\n",
    "2. Evaluate the predictive perofrmance of different quantile regression models\n",
    "3. Deploy and test models for conditional simulation of blast movement"
   ]
  },
  {
   "cell_type": "code",
   "execution_count": 31,
   "id": "241d8eb9-af5a-491a-bb4f-2ead004e6aec",
   "metadata": {},
   "outputs": [],
   "source": [
    "targets = ['m_h_ff', 'm_v', 'm_h_dev', 'det_depth']"
   ]
  },
  {
   "cell_type": "code",
   "execution_count": 32,
   "id": "e98cc03a-9785-408f-80d3-1c308296c0a8",
   "metadata": {},
   "outputs": [],
   "source": [
    "quantiles = np.arange(0.1, 1.0, 0.1)"
   ]
  },
  {
   "cell_type": "markdown",
   "id": "aa7d647c-67ab-4e11-ade2-38ca69a1c27a",
   "metadata": {},
   "source": [
    "### Horizontal movement prediction"
   ]
  },
  {
   "cell_type": "markdown",
   "id": "9dcba68b-b172-4974-95d8-35c21811684b",
   "metadata": {},
   "source": [
    "#### Feature selection"
   ]
  },
  {
   "cell_type": "code",
   "execution_count": 33,
   "id": "c2ad3667-68dc-46d0-ae81-4cf59f686f26",
   "metadata": {},
   "outputs": [
    {
     "data": {
      "image/png": "[encoded data removed]",
      "text/plain": [
       "<Figure size 1800x400 with 3 Axes>"
      ]
     },
     "metadata": {},
     "output_type": "display_data"
    }
   ],
   "source": [
    "plot_binned_scatterplots(df, 'loc_gpf', 'm_h_ff', bin_list=[5, 10, 15], tau=0.7)"
   ]
  },
  {
   "cell_type": "code",
   "execution_count": 34,
   "id": "813bdde7-7514-4087-af9b-1fbbc838b78f",
   "metadata": {},
   "outputs": [
    {
     "data": {
      "image/png": "[encoded data removed]",
      "text/plain": [
       "<Figure size 1800x400 with 3 Axes>"
      ]
     },
     "metadata": {},
     "output_type": "display_data"
    }
   ],
   "source": [
    "plot_binned_scatterplots(df, 'inst_h', 'm_h_ff', bin_list=[5, 10, 15], tau=0.7)"
   ]
  },
  {
   "cell_type": "markdown",
   "id": "a814e609-bbbd-48ff-972e-48c3ad916c21",
   "metadata": {},
   "source": [
    "#### Training preparation"
   ]
  },
  {
   "cell_type": "code",
   "execution_count": 35,
   "id": "fa24a603-5f4f-4e8d-b16c-7b14412152b2",
   "metadata": {},
   "outputs": [],
   "source": [
    "predictors_m_h_ff = [\n",
    "    'inst_h',\n",
    "    'loc_gpf',\n",
    "]"
   ]
  },
  {
   "cell_type": "code",
   "execution_count": 36,
   "id": "7eacff6c-f149-4a2a-9158-15ac36282bdc",
   "metadata": {},
   "outputs": [],
   "source": [
    "k_folds = 5\n",
    "partition = 0.2"
   ]
  },
  {
   "cell_type": "code",
   "execution_count": 37,
   "id": "b7af6080-d680-45fe-acdd-95dd439cd27d",
   "metadata": {},
   "outputs": [],
   "source": [
    "train_m_h_ff, test_m_h_ff = train_test_split(df, test_size=partition, random_state=42)\n",
    "\n",
    "# Separate features and target\n",
    "X_train_m_h_ff, y_train_m_h_ff = train_m_h_ff[predictors_m_h_ff], train_m_h_ff[targets[0]]\n",
    "X_test_m_h_ff, y_test_m_h_ff = test_m_h_ff[predictors_m_h_ff], test_m_h_ff[targets[0]]\n",
    "\n",
    "# Initialize QuantileTransformer for the target column\n",
    "x_scaler_m_h_ff = StandardScaler()\n",
    "\n",
    "# Scale X (features)\n",
    "X_train_scaled_m_h_ff = x_scaler_m_h_ff.fit_transform(X_train_m_h_ff)\n",
    "X_test_scaled_m_h_ff = x_scaler_m_h_ff.transform(X_test_m_h_ff)"
   ]
  },
  {
   "cell_type": "code",
   "execution_count": 38,
   "id": "ced59bf5-d9ba-48a9-9577-f8c2a75888bd",
   "metadata": {},
   "outputs": [
    {
     "data": {
      "text/html": [
       "<div>\n",
       "<style scoped>\n",
       "    .dataframe tbody tr th:only-of-type {\n",
       "        vertical-align: middle;\n",
       "    }\n",
       "\n",
       "    .dataframe tbody tr th {\n",
       "        vertical-align: top;\n",
       "    }\n",
       "\n",
       "    .dataframe thead th {\n",
       "        text-align: right;\n",
       "    }\n",
       "</style>\n",
       "<table border=\"1\" class=\"dataframe\">\n",
       "  <thead>\n",
       "    <tr style=\"text-align: right;\">\n",
       "      <th></th>\n",
       "      <th>bp_id</th>\n",
       "      <th>east</th>\n",
       "      <th>north</th>\n",
       "      <th>elev</th>\n",
       "      <th>bmm_elev</th>\n",
       "      <th>expl_type</th>\n",
       "      <th>confined</th>\n",
       "      <th>bp_h</th>\n",
       "      <th>inst_depth</th>\n",
       "      <th>inst_h</th>\n",
       "      <th>...</th>\n",
       "      <th>bp_post_h</th>\n",
       "      <th>h_dev_angle</th>\n",
       "      <th>m_h_ff</th>\n",
       "      <th>m_h_dev</th>\n",
       "      <th>loc_pf</th>\n",
       "      <th>loc_gpf</th>\n",
       "      <th>loc_gp_vol</th>\n",
       "      <th>dist_ff</th>\n",
       "      <th>loc_gpf_bin</th>\n",
       "      <th>inst_h_bin</th>\n",
       "    </tr>\n",
       "  </thead>\n",
       "  <tbody>\n",
       "    <tr>\n",
       "      <th>347</th>\n",
       "      <td>PB1_440_001</td>\n",
       "      <td>9435613.257</td>\n",
       "      <td>4523370.088</td>\n",
       "      <td>445.042</td>\n",
       "      <td>441.342</td>\n",
       "      <td>ANFO</td>\n",
       "      <td>free face</td>\n",
       "      <td>5.042</td>\n",
       "      <td>3.7</td>\n",
       "      <td>1.342</td>\n",
       "      <td>...</td>\n",
       "      <td>5.666</td>\n",
       "      <td>4.788978</td>\n",
       "      <td>0.322907</td>\n",
       "      <td>0.027053</td>\n",
       "      <td>0.335464</td>\n",
       "      <td>331.438256</td>\n",
       "      <td>122899.4936</td>\n",
       "      <td>91.800</td>\n",
       "      <td>326.36-345.01</td>\n",
       "      <td>1.33-1.59</td>\n",
       "    </tr>\n",
       "    <tr>\n",
       "      <th>773</th>\n",
       "      <td>PB1_425_006</td>\n",
       "      <td>9435547.082</td>\n",
       "      <td>4523473.864</td>\n",
       "      <td>429.675</td>\n",
       "      <td>428.075</td>\n",
       "      <td>Riogel</td>\n",
       "      <td>choked</td>\n",
       "      <td>4.675</td>\n",
       "      <td>1.6</td>\n",
       "      <td>3.075</td>\n",
       "      <td>...</td>\n",
       "      <td>5.472</td>\n",
       "      <td>3.744169</td>\n",
       "      <td>0.957280</td>\n",
       "      <td>0.062646</td>\n",
       "      <td>0.324048</td>\n",
       "      <td>302.337178</td>\n",
       "      <td>103789.7190</td>\n",
       "      <td>44.858</td>\n",
       "      <td>289.06-307.71</td>\n",
       "      <td>2.85-3.1</td>\n",
       "    </tr>\n",
       "    <tr>\n",
       "      <th>65</th>\n",
       "      <td>PB1_460_003</td>\n",
       "      <td>9435603.762</td>\n",
       "      <td>4523460.858</td>\n",
       "      <td>464.867</td>\n",
       "      <td>461.067</td>\n",
       "      <td>ANFO</td>\n",
       "      <td>free face</td>\n",
       "      <td>4.867</td>\n",
       "      <td>3.8</td>\n",
       "      <td>1.067</td>\n",
       "      <td>...</td>\n",
       "      <td>5.194</td>\n",
       "      <td>38.001781</td>\n",
       "      <td>1.763143</td>\n",
       "      <td>1.377607</td>\n",
       "      <td>0.346123</td>\n",
       "      <td>341.969052</td>\n",
       "      <td>108609.6544</td>\n",
       "      <td>38.108</td>\n",
       "      <td>326.36-345.01</td>\n",
       "      <td>0.83-1.08</td>\n",
       "    </tr>\n",
       "    <tr>\n",
       "      <th>731</th>\n",
       "      <td>PB2_430_003</td>\n",
       "      <td>9435590.296</td>\n",
       "      <td>4523660.627</td>\n",
       "      <td>434.848</td>\n",
       "      <td>431.248</td>\n",
       "      <td>ANFO</td>\n",
       "      <td>free face</td>\n",
       "      <td>4.848</td>\n",
       "      <td>3.6</td>\n",
       "      <td>1.248</td>\n",
       "      <td>...</td>\n",
       "      <td>5.953</td>\n",
       "      <td>-35.159020</td>\n",
       "      <td>0.369989</td>\n",
       "      <td>-0.260602</td>\n",
       "      <td>0.347439</td>\n",
       "      <td>343.270177</td>\n",
       "      <td>121441.7984</td>\n",
       "      <td>13.756</td>\n",
       "      <td>326.36-345.01</td>\n",
       "      <td>1.08-1.33</td>\n",
       "    </tr>\n",
       "    <tr>\n",
       "      <th>515</th>\n",
       "      <td>PB2_450_003</td>\n",
       "      <td>9435572.575</td>\n",
       "      <td>4523642.833</td>\n",
       "      <td>454.513</td>\n",
       "      <td>452.913</td>\n",
       "      <td>Riogel</td>\n",
       "      <td>choked</td>\n",
       "      <td>4.513</td>\n",
       "      <td>1.6</td>\n",
       "      <td>2.913</td>\n",
       "      <td>...</td>\n",
       "      <td>5.092</td>\n",
       "      <td>61.897160</td>\n",
       "      <td>0.145259</td>\n",
       "      <td>0.272014</td>\n",
       "      <td>0.326876</td>\n",
       "      <td>304.975356</td>\n",
       "      <td>100846.5705</td>\n",
       "      <td>29.759</td>\n",
       "      <td>289.06-307.71</td>\n",
       "      <td>2.85-3.1</td>\n",
       "    </tr>\n",
       "    <tr>\n",
       "      <th>...</th>\n",
       "      <td>...</td>\n",
       "      <td>...</td>\n",
       "      <td>...</td>\n",
       "      <td>...</td>\n",
       "      <td>...</td>\n",
       "      <td>...</td>\n",
       "      <td>...</td>\n",
       "      <td>...</td>\n",
       "      <td>...</td>\n",
       "      <td>...</td>\n",
       "      <td>...</td>\n",
       "      <td>...</td>\n",
       "      <td>...</td>\n",
       "      <td>...</td>\n",
       "      <td>...</td>\n",
       "      <td>...</td>\n",
       "      <td>...</td>\n",
       "      <td>...</td>\n",
       "      <td>...</td>\n",
       "      <td>...</td>\n",
       "      <td>...</td>\n",
       "    </tr>\n",
       "    <tr>\n",
       "      <th>1146</th>\n",
       "      <td>PB3_450_005</td>\n",
       "      <td>9435655.568</td>\n",
       "      <td>4523741.269</td>\n",
       "      <td>454.746</td>\n",
       "      <td>453.146</td>\n",
       "      <td>Riogel</td>\n",
       "      <td>choked</td>\n",
       "      <td>4.746</td>\n",
       "      <td>1.6</td>\n",
       "      <td>3.146</td>\n",
       "      <td>...</td>\n",
       "      <td>5.151</td>\n",
       "      <td>83.058254</td>\n",
       "      <td>0.026522</td>\n",
       "      <td>0.217838</td>\n",
       "      <td>0.339218</td>\n",
       "      <td>316.489973</td>\n",
       "      <td>109688.8914</td>\n",
       "      <td>33.796</td>\n",
       "      <td>307.71-326.36</td>\n",
       "      <td>3.1-3.36</td>\n",
       "    </tr>\n",
       "    <tr>\n",
       "      <th>617</th>\n",
       "      <td>PB2_440_001</td>\n",
       "      <td>9435592.796</td>\n",
       "      <td>4523677.423</td>\n",
       "      <td>444.781</td>\n",
       "      <td>443.181</td>\n",
       "      <td>ANFO</td>\n",
       "      <td>choked</td>\n",
       "      <td>4.781</td>\n",
       "      <td>1.6</td>\n",
       "      <td>3.181</td>\n",
       "      <td>...</td>\n",
       "      <td>5.728</td>\n",
       "      <td>11.351223</td>\n",
       "      <td>0.708529</td>\n",
       "      <td>0.142237</td>\n",
       "      <td>0.351593</td>\n",
       "      <td>347.373566</td>\n",
       "      <td>120151.8656</td>\n",
       "      <td>8.742</td>\n",
       "      <td>345.01-363.66</td>\n",
       "      <td>3.1-3.36</td>\n",
       "    </tr>\n",
       "    <tr>\n",
       "      <th>1075</th>\n",
       "      <td>PB2_435_006</td>\n",
       "      <td>9435542.308</td>\n",
       "      <td>4523621.567</td>\n",
       "      <td>439.958</td>\n",
       "      <td>436.358</td>\n",
       "      <td>ANFO</td>\n",
       "      <td>free face</td>\n",
       "      <td>4.958</td>\n",
       "      <td>3.6</td>\n",
       "      <td>1.358</td>\n",
       "      <td>...</td>\n",
       "      <td>5.795</td>\n",
       "      <td>-3.824111</td>\n",
       "      <td>1.185366</td>\n",
       "      <td>-0.079233</td>\n",
       "      <td>0.361167</td>\n",
       "      <td>356.833027</td>\n",
       "      <td>127636.1632</td>\n",
       "      <td>13.525</td>\n",
       "      <td>345.01-363.66</td>\n",
       "      <td>1.33-1.59</td>\n",
       "    </tr>\n",
       "    <tr>\n",
       "      <th>1074</th>\n",
       "      <td>PB2_430_013</td>\n",
       "      <td>9435653.571</td>\n",
       "      <td>4523557.715</td>\n",
       "      <td>434.802</td>\n",
       "      <td>433.202</td>\n",
       "      <td>ANFO</td>\n",
       "      <td>choked</td>\n",
       "      <td>4.802</td>\n",
       "      <td>1.6</td>\n",
       "      <td>3.202</td>\n",
       "      <td>...</td>\n",
       "      <td>5.985</td>\n",
       "      <td>33.356184</td>\n",
       "      <td>0.245983</td>\n",
       "      <td>0.161926</td>\n",
       "      <td>0.345826</td>\n",
       "      <td>341.676213</td>\n",
       "      <td>122180.8224</td>\n",
       "      <td>10.224</td>\n",
       "      <td>326.36-345.01</td>\n",
       "      <td>3.1-3.36</td>\n",
       "    </tr>\n",
       "    <tr>\n",
       "      <th>561</th>\n",
       "      <td>PB2_445_006</td>\n",
       "      <td>9435558.554</td>\n",
       "      <td>4523615.685</td>\n",
       "      <td>449.684</td>\n",
       "      <td>448.684</td>\n",
       "      <td>ANFO</td>\n",
       "      <td>choked</td>\n",
       "      <td>4.684</td>\n",
       "      <td>1.0</td>\n",
       "      <td>3.684</td>\n",
       "      <td>...</td>\n",
       "      <td>5.263</td>\n",
       "      <td>-35.549323</td>\n",
       "      <td>0.336916</td>\n",
       "      <td>-0.240758</td>\n",
       "      <td>0.344681</td>\n",
       "      <td>340.544345</td>\n",
       "      <td>120507.9408</td>\n",
       "      <td>9.199</td>\n",
       "      <td>326.36-345.01</td>\n",
       "      <td>3.61-3.86</td>\n",
       "    </tr>\n",
       "  </tbody>\n",
       "</table>\n",
       "<p>222 rows × 42 columns</p>\n",
       "</div>"
      ],
      "text/plain": [
       "            bp_id         east        north     elev  bmm_elev expl_type  \\\n",
       "347   PB1_440_001  9435613.257  4523370.088  445.042   441.342      ANFO   \n",
       "773   PB1_425_006  9435547.082  4523473.864  429.675   428.075    Riogel   \n",
       "65    PB1_460_003  9435603.762  4523460.858  464.867   461.067      ANFO   \n",
       "731   PB2_430_003  9435590.296  4523660.627  434.848   431.248      ANFO   \n",
       "515   PB2_450_003  9435572.575  4523642.833  454.513   452.913    Riogel   \n",
       "...           ...          ...          ...      ...       ...       ...   \n",
       "1146  PB3_450_005  9435655.568  4523741.269  454.746   453.146    Riogel   \n",
       "617   PB2_440_001  9435592.796  4523677.423  444.781   443.181      ANFO   \n",
       "1075  PB2_435_006  9435542.308  4523621.567  439.958   436.358      ANFO   \n",
       "1074  PB2_430_013  9435653.571  4523557.715  434.802   433.202      ANFO   \n",
       "561   PB2_445_006  9435558.554  4523615.685  449.684   448.684      ANFO   \n",
       "\n",
       "       confined   bp_h  inst_depth  inst_h  ...  bp_post_h  h_dev_angle  \\\n",
       "347   free face  5.042         3.7   1.342  ...      5.666     4.788978   \n",
       "773      choked  4.675         1.6   3.075  ...      5.472     3.744169   \n",
       "65    free face  4.867         3.8   1.067  ...      5.194    38.001781   \n",
       "731   free face  4.848         3.6   1.248  ...      5.953   -35.159020   \n",
       "515      choked  4.513         1.6   2.913  ...      5.092    61.897160   \n",
       "...         ...    ...         ...     ...  ...        ...          ...   \n",
       "1146     choked  4.746         1.6   3.146  ...      5.151    83.058254   \n",
       "617      choked  4.781         1.6   3.181  ...      5.728    11.351223   \n",
       "1075  free face  4.958         3.6   1.358  ...      5.795    -3.824111   \n",
       "1074     choked  4.802         1.6   3.202  ...      5.985    33.356184   \n",
       "561      choked  4.684         1.0   3.684  ...      5.263   -35.549323   \n",
       "\n",
       "        m_h_ff   m_h_dev    loc_pf     loc_gpf   loc_gp_vol dist_ff  \\\n",
       "347   0.322907  0.027053  0.335464  331.438256  122899.4936  91.800   \n",
       "773   0.957280  0.062646  0.324048  302.337178  103789.7190  44.858   \n",
       "65    1.763143  1.377607  0.346123  341.969052  108609.6544  38.108   \n",
       "731   0.369989 -0.260602  0.347439  343.270177  121441.7984  13.756   \n",
       "515   0.145259  0.272014  0.326876  304.975356  100846.5705  29.759   \n",
       "...        ...       ...       ...         ...          ...     ...   \n",
       "1146  0.026522  0.217838  0.339218  316.489973  109688.8914  33.796   \n",
       "617   0.708529  0.142237  0.351593  347.373566  120151.8656   8.742   \n",
       "1075  1.185366 -0.079233  0.361167  356.833027  127636.1632  13.525   \n",
       "1074  0.245983  0.161926  0.345826  341.676213  122180.8224  10.224   \n",
       "561   0.336916 -0.240758  0.344681  340.544345  120507.9408   9.199   \n",
       "\n",
       "        loc_gpf_bin  inst_h_bin  \n",
       "347   326.36-345.01   1.33-1.59  \n",
       "773   289.06-307.71    2.85-3.1  \n",
       "65    326.36-345.01   0.83-1.08  \n",
       "731   326.36-345.01   1.08-1.33  \n",
       "515   289.06-307.71    2.85-3.1  \n",
       "...             ...         ...  \n",
       "1146  307.71-326.36    3.1-3.36  \n",
       "617   345.01-363.66    3.1-3.36  \n",
       "1075  345.01-363.66   1.33-1.59  \n",
       "1074  326.36-345.01    3.1-3.36  \n",
       "561   326.36-345.01   3.61-3.86  \n",
       "\n",
       "[222 rows x 42 columns]"
      ]
     },
     "execution_count": 38,
     "metadata": {},
     "output_type": "execute_result"
    }
   ],
   "source": [
    "test_m_h_ff"
   ]
  },
  {
   "cell_type": "code",
   "execution_count": 39,
   "id": "fc9c6416-2b32-49c2-be24-b89f6070c528",
   "metadata": {},
   "outputs": [
    {
     "ename": "NameError",
     "evalue": "name 'aaaaaa' is not defined",
     "output_type": "error",
     "traceback": [
      "\u001b[1;31m---------------------------------------------------------------------------\u001b[0m",
      "\u001b[1;31mNameError\u001b[0m                                 Traceback (most recent call last)",
      "Cell \u001b[1;32mIn[39], line 1\u001b[0m\n\u001b[1;32m----> 1\u001b[0m aaaaaa\n",
      "\u001b[1;31mNameError\u001b[0m: name 'aaaaaa' is not defined"
     ]
    }
   ],
   "source": [
    "aaaaaa"
   ]
  },
  {
   "cell_type": "markdown",
   "id": "3de2322c-b3fa-4349-a987-bcc4027e765f",
   "metadata": {
    "jp-MarkdownHeadingCollapsed": true
   },
   "source": [
    "#### Linear quantile regression"
   ]
  },
  {
   "cell_type": "code",
   "execution_count": null,
   "id": "ddbcba93-10af-4a66-9d10-c1ae643d2520",
   "metadata": {
    "scrolled": true
   },
   "outputs": [],
   "source": [
    "start_t = time.time()\n",
    "models_lqr_m_h_ff, predictions_lqr_m_h_ff = store_ml_model_data('Linear model', \n",
    "                                                                X_train_scaled_m_h_ff, \n",
    "                                                                y_train_m_h_ff, \n",
    "                                                                X_test_scaled_m_h_ff, \n",
    "                                                                y_test_m_h_ff, \n",
    "                                                                k_folds, \n",
    "                                                                quantiles)\n",
    "finish_t = time.time()"
   ]
  },
  {
   "cell_type": "code",
   "execution_count": null,
   "id": "3b6f0934-3616-47cf-9d5d-ab801584e62f",
   "metadata": {},
   "outputs": [],
   "source": [
    "print(f'Computational time: {(finish_t - start_t):.2f}s')"
   ]
  },
  {
   "cell_type": "code",
   "execution_count": null,
   "id": "f4d06a84-8cda-4f92-8c01-26505ac19a17",
   "metadata": {},
   "outputs": [],
   "source": [
    "plot_predict_scatter(X_test_m_h_ff, y_test_m_h_ff, predictions_lqr_m_h_ff, quantiles, predictors_m_h_ff, targets[0])"
   ]
  },
  {
   "cell_type": "markdown",
   "id": "dc4a320b-68c8-44eb-9e5d-7bf3fa8cbcbd",
   "metadata": {
    "jp-MarkdownHeadingCollapsed": true
   },
   "source": [
    "#### Gradient trees quantile regression"
   ]
  },
  {
   "cell_type": "code",
   "execution_count": null,
   "id": "1de8ca29-0354-4c08-9fd8-96fd5ecc9e6f",
   "metadata": {},
   "outputs": [],
   "source": [
    "start_t = time.time()\n",
    "models_gt_m_h_ff, predictions_gt_m_h_ff = store_ml_model_data('Gradient trees', \n",
    "                                                              X_train_scaled_m_h_ff, \n",
    "                                                              y_train_m_h_ff, \n",
    "                                                              X_test_scaled_m_h_ff, \n",
    "                                                              y_test_m_h_ff, \n",
    "                                                              k_folds, \n",
    "                                                              quantiles)\n",
    "finish_t = time.time()"
   ]
  },
  {
   "cell_type": "code",
   "execution_count": null,
   "id": "e5c5db23-6008-4221-aed7-b59582eebda0",
   "metadata": {},
   "outputs": [],
   "source": [
    "print(f'Computational time: {(finish_t - start_t):.2f}s')"
   ]
  },
  {
   "cell_type": "code",
   "execution_count": null,
   "id": "3c2d654d-1a9e-4465-8e98-3fdd5f8dce24",
   "metadata": {},
   "outputs": [],
   "source": [
    "plot_predict_scatter(X_test_m_h_ff, y_test_m_h_ff, predictions_gt_m_h_ff, quantiles, predictors_m_h_ff, targets[0])"
   ]
  },
  {
   "cell_type": "markdown",
   "id": "76ad92ab-3fed-4e0c-aa25-a1f5a74667ac",
   "metadata": {
    "jp-MarkdownHeadingCollapsed": true
   },
   "source": [
    "#### Histogram-based gradient trees quantile regression"
   ]
  },
  {
   "cell_type": "code",
   "execution_count": null,
   "id": "3d012600-b044-48e3-87c4-2943a920b56d",
   "metadata": {},
   "outputs": [],
   "source": [
    "start_t = time.time()\n",
    "models_hbgt_m_h_ff, predictions_hbgt_m_h_ff = store_ml_model_data('Histogram-based gradient trees', \n",
    "                                                                  X_train_scaled_m_h_ff, \n",
    "                                                                  y_train_m_h_ff, \n",
    "                                                                  X_test_scaled_m_h_ff, \n",
    "                                                                  y_test_m_h_ff, \n",
    "                                                                  k_folds, \n",
    "                                                                  quantiles)\n",
    "finish_t = time.time()"
   ]
  },
  {
   "cell_type": "code",
   "execution_count": null,
   "id": "8c9251c7-352a-4729-b851-fc8751e2a219",
   "metadata": {},
   "outputs": [],
   "source": [
    "print(f'Computational time: {(finish_t - start_t):.2f}s')"
   ]
  },
  {
   "cell_type": "code",
   "execution_count": null,
   "id": "a487c411-f516-40ee-91d7-924b6d978206",
   "metadata": {},
   "outputs": [],
   "source": [
    "plot_predict_scatter(X_test_m_h_ff, y_test_m_h_ff, predictions_hbgt_m_h_ff, quantiles, predictors_m_h_ff, targets[0])"
   ]
  },
  {
   "cell_type": "markdown",
   "id": "464a9e6b-329e-45a0-84a9-8493b46734e1",
   "metadata": {},
   "source": [
    "### Vertical movement prediction"
   ]
  },
  {
   "cell_type": "markdown",
   "id": "a894520d-710b-4d23-8ff8-5bea6358995e",
   "metadata": {
    "jp-MarkdownHeadingCollapsed": true
   },
   "source": [
    "#### Feature selection"
   ]
  },
  {
   "cell_type": "code",
   "execution_count": null,
   "id": "d72a7dc4-c0d8-4554-832a-9cbaff1ffa96",
   "metadata": {},
   "outputs": [],
   "source": [
    "plot_binned_scatterplots(df, 'inst_h', 'm_v', bin_list=[5, 10, 15], tau=0.5)"
   ]
  },
  {
   "cell_type": "code",
   "execution_count": null,
   "id": "c25dac29-88b6-4a56-b887-03656f9929dc",
   "metadata": {},
   "outputs": [],
   "source": [
    "plot_binned_scatterplots(df, 'm_h_ff', 'm_v', bin_list=[5, 10, 15], tau=0.5)"
   ]
  },
  {
   "cell_type": "markdown",
   "id": "d986a0f0-4b70-4179-9676-12a9b94caca1",
   "metadata": {},
   "source": [
    "#### Training preparation"
   ]
  },
  {
   "cell_type": "code",
   "execution_count": 40,
   "id": "1afc9049-ecbe-49fc-8fde-cc48987d4d03",
   "metadata": {},
   "outputs": [],
   "source": [
    "k_folds = 5\n",
    "partition = 0.2"
   ]
  },
  {
   "cell_type": "code",
   "execution_count": 41,
   "id": "09f0ebe4-1b54-4aba-9503-b435e8f78f67",
   "metadata": {},
   "outputs": [],
   "source": [
    "predictors_m_v = [\n",
    "    'inst_h',\n",
    "    'm_h_ff'\n",
    "]"
   ]
  },
  {
   "cell_type": "code",
   "execution_count": 42,
   "id": "a282ba1a-e9cc-4b41-a5ca-87c78dcceaf4",
   "metadata": {},
   "outputs": [],
   "source": [
    "train_m_v, test_m_v = train_test_split(df, test_size=partition, random_state=42)\n",
    "\n",
    "# Separate features and target\n",
    "X_train_m_v, y_train_m_v = train_m_v[predictors_m_v], train_m_v[targets[1]]\n",
    "X_test_m_v, y_test_m_v = test_m_v[predictors_m_v], test_m_v[targets[1]]\n",
    "\n",
    "# Initialize QuantileTransformer for the target column\n",
    "x_scaler_m_v = StandardScaler()\n",
    "\n",
    "# Scale X (features)\n",
    "X_train_scaled_m_v = x_scaler_m_v.fit_transform(X_train_m_v)\n",
    "X_test_scaled_m_v = x_scaler_m_v.transform(X_test_m_v)"
   ]
  },
  {
   "cell_type": "code",
   "execution_count": 69,
   "id": "24617227-bda9-4a93-954d-4541ea9d83dc",
   "metadata": {},
   "outputs": [
    {
     "data": {
      "image/png": "[encoded data removed]",
      "text/plain": [
       "<Figure size 640x480 with 1 Axes>"
      ]
     },
     "metadata": {},
     "output_type": "display_data"
    }
   ],
   "source": [
    "plt.scatter(train_m_v['east']-9435000, train_m_v['north']-4523000, label='Train data',s=20)\n",
    "plt.scatter(test_m_v['east']-9435000, test_m_v['north']-4523000, label='Test data',s=20)\n",
    "plt.xlabel('Adjusted Easting')\n",
    "plt.ylabel('Adjusted Northing')\n",
    "plt.legend()\n",
    "plt.savefig('Train vs Test - Top view.png', bbox_inches='tight')"
   ]
  },
  {
   "cell_type": "code",
   "execution_count": 70,
   "id": "28c0525b-920a-4eee-b43f-5df7f9c06289",
   "metadata": {},
   "outputs": [
    {
     "data": {
      "image/png": "[encoded data removed]",
      "text/plain": [
       "<Figure size 640x480 with 1 Axes>"
      ]
     },
     "metadata": {},
     "output_type": "display_data"
    }
   ],
   "source": [
    "plt.scatter(train_m_v['east']-9435000, train_m_v['elev'], label='Train data',s=20)\n",
    "plt.scatter(test_m_v['east']-9435000, test_m_v['elev'], label='Test data',s=20)\n",
    "plt.xlabel('Adjusted Easting')\n",
    "plt.ylabel('Elevation')\n",
    "plt.legend()\n",
    "plt.savefig('Train vs Test - Side view 1.png', bbox_inches='tight')"
   ]
  },
  {
   "cell_type": "code",
   "execution_count": 71,
   "id": "6d9f4714-b7c4-44c6-a319-000ac566985a",
   "metadata": {},
   "outputs": [
    {
     "data": {
      "image/png": "[encoded data removed]",
      "text/plain": [
       "<Figure size 640x480 with 1 Axes>"
      ]
     },
     "metadata": {},
     "output_type": "display_data"
    }
   ],
   "source": [
    "plt.scatter(train_m_v['north']-4523000, train_m_v['elev'], label='Train data',s=20)\n",
    "plt.scatter(test_m_v['north']-4523000, test_m_v['elev'], label='Test data',s=20)\n",
    "plt.xlabel('Adjusted Northing')\n",
    "plt.ylabel('Elevation')\n",
    "plt.legend()\n",
    "plt.savefig('Train vs Test - Side view 2.png', bbox_inches='tight')"
   ]
  },
  {
   "cell_type": "code",
   "execution_count": 45,
   "id": "4b08bc34-d1e5-4079-bba8-aa381ca3f980",
   "metadata": {},
   "outputs": [],
   "source": [
    "train_m_v.to_excel('train_data.xlsx')"
   ]
  },
  {
   "cell_type": "code",
   "execution_count": 44,
   "id": "5f3d8dc3-ed33-407d-a2c7-74ecb1430831",
   "metadata": {},
   "outputs": [],
   "source": [
    "test_m_v.to_excel('test_data.xlsx')"
   ]
  },
  {
   "cell_type": "markdown",
   "id": "5aac6077-14fb-48ca-8618-d1717c266123",
   "metadata": {
    "jp-MarkdownHeadingCollapsed": true
   },
   "source": [
    "#### Linear quantile regression"
   ]
  },
  {
   "cell_type": "code",
   "execution_count": null,
   "id": "770667df-3e21-4001-b1ce-0036fe75dfe2",
   "metadata": {
    "scrolled": true
   },
   "outputs": [],
   "source": [
    "start_t = time.time()\n",
    "models_lqr_m_v, predictions_lqr_m_v = store_ml_model_data('Linear model', \n",
    "                                                          X_train_scaled_m_v, \n",
    "                                                          y_train_m_v, \n",
    "                                                          X_test_scaled_m_v, \n",
    "                                                          y_test_m_v, \n",
    "                                                          k_folds, \n",
    "                                                          quantiles)\n",
    "finish_t = time.time()"
   ]
  },
  {
   "cell_type": "code",
   "execution_count": null,
   "id": "cc0c6021-9b54-4710-b5f2-cdac516162fe",
   "metadata": {},
   "outputs": [],
   "source": [
    "print(f'Computational time: {(finish_t - start_t):.2f}s')"
   ]
  },
  {
   "cell_type": "code",
   "execution_count": null,
   "id": "7f3169e6-412a-49fe-b4de-dddfb9037888",
   "metadata": {},
   "outputs": [],
   "source": [
    "plot_predict_scatter(X_test_m_v, y_test_m_v, predictions_lqr_m_v, quantiles, predictors_m_v, targets[1])"
   ]
  },
  {
   "cell_type": "markdown",
   "id": "f90a9a37-e9ba-4571-965e-dada11ca6183",
   "metadata": {},
   "source": [
    "#### Gradient boosted trees quantile regression"
   ]
  },
  {
   "cell_type": "code",
   "execution_count": null,
   "id": "4d732573-30fd-4a6a-b35c-0349635ebbba",
   "metadata": {},
   "outputs": [],
   "source": [
    "start_t = time.time()\n",
    "models_gt_m_v, predictions_gt_m_v = store_ml_model_data('Gradient trees', \n",
    "                                                        X_train_scaled_m_v, \n",
    "                                                        y_train_m_v, \n",
    "                                                        X_test_scaled_m_v, \n",
    "                                                        y_test_m_v, \n",
    "                                                        k_folds, \n",
    "                                                        quantiles)\n",
    "finish_t = time.time()"
   ]
  },
  {
   "cell_type": "code",
   "execution_count": null,
   "id": "b44251a4-fd06-4e53-99e9-ad19566634b7",
   "metadata": {},
   "outputs": [],
   "source": [
    "print(f'Computational time: {(finish_t - start_t):.2f}s')"
   ]
  },
  {
   "cell_type": "code",
   "execution_count": null,
   "id": "aa1ad4ca-a6d1-47cd-b11e-f8b20499eced",
   "metadata": {},
   "outputs": [],
   "source": [
    "plot_predict_scatter(X_test_m_v, y_test_m_v, predictions_gt_m_v, quantiles, predictors_m_v, targets[1])"
   ]
  },
  {
   "cell_type": "markdown",
   "id": "e664ddba-c5a1-48f9-abe9-c54125f706cd",
   "metadata": {},
   "source": [
    "#### Histogram-based gradient trees quantile regression"
   ]
  },
  {
   "cell_type": "code",
   "execution_count": null,
   "id": "02f628e9-26ca-470d-a384-d5eb7c31470a",
   "metadata": {},
   "outputs": [],
   "source": [
    "start_t = time.time()\n",
    "models_hbgt_m_v, predictions_hbgt_m_v = store_ml_model_data('Histogram-based gradient trees', \n",
    "                                                            X_train_scaled_m_v, \n",
    "                                                            y_train_m_v, \n",
    "                                                            X_test_scaled_m_v, \n",
    "                                                            y_test_m_v, \n",
    "                                                            k_folds, \n",
    "                                                            quantiles)\n",
    "finish_t = time.time()"
   ]
  },
  {
   "cell_type": "code",
   "execution_count": null,
   "id": "f999f8aa-86ff-4af4-88a2-1f9e68becb32",
   "metadata": {},
   "outputs": [],
   "source": [
    "print(f'Computational time: {(finish_t - start_t):.2f}s')"
   ]
  },
  {
   "cell_type": "code",
   "execution_count": null,
   "id": "1aeda942-faaf-4ac8-b641-79ddc99cec7a",
   "metadata": {},
   "outputs": [],
   "source": [
    "plot_predict_scatter(X_test_m_v, y_test_m_v, predictions_hbgt_m_v, quantiles, predictors_m_v, targets[1])"
   ]
  },
  {
   "cell_type": "markdown",
   "id": "7fcf980a-2ead-414b-8fd2-1d77cf8a2830",
   "metadata": {},
   "source": [
    "### Horizontal movement devation prediction"
   ]
  },
  {
   "cell_type": "markdown",
   "id": "976ab2b4-f1e8-4a58-9244-b3706d683682",
   "metadata": {},
   "source": [
    "#### Feature selection"
   ]
  },
  {
   "cell_type": "code",
   "execution_count": null,
   "id": "18b30ed3-d72e-459f-b850-8b5a692e29a0",
   "metadata": {},
   "outputs": [],
   "source": [
    "plot_binned_scatterplots(df, 'm_h_ff', 'm_h_dev', bin_list=[5, 10, 15], tau=0.9)"
   ]
  },
  {
   "cell_type": "code",
   "execution_count": null,
   "id": "61790d93-ec7c-4622-acd0-f7f977d2f487",
   "metadata": {},
   "outputs": [],
   "source": [
    "plot_binned_scatterplots(df, 'm_v', 'm_h_dev', bin_list=[5, 10, 15], tau=0.9)"
   ]
  },
  {
   "cell_type": "markdown",
   "id": "90f9d5c8-67c9-416c-b52a-1f81c7973a4c",
   "metadata": {},
   "source": [
    "#### Training preparation"
   ]
  },
  {
   "cell_type": "code",
   "execution_count": null,
   "id": "e1547c87-5f6e-4396-b855-15191f625b3b",
   "metadata": {},
   "outputs": [],
   "source": [
    "k_folds = 5\n",
    "partition = 0.2"
   ]
  },
  {
   "cell_type": "code",
   "execution_count": null,
   "id": "42d38114-362a-4f0b-b1d7-c44b3303d57e",
   "metadata": {},
   "outputs": [],
   "source": [
    "predictors_m_h_dev = [\n",
    "    'm_h_ff',\n",
    "    'm_v'\n",
    "]"
   ]
  },
  {
   "cell_type": "code",
   "execution_count": null,
   "id": "6f214e0e-bc9c-4959-868d-e99563286ae2",
   "metadata": {},
   "outputs": [],
   "source": [
    "train_m_h_dev, test_m_h_dev = train_test_split(df, test_size=partition, random_state=42)\n",
    "\n",
    "# Separate features and target\n",
    "X_train_m_h_dev, y_train_m_h_dev = train_m_h_dev[predictors_m_h_dev], train_m_h_dev[targets[2]]\n",
    "X_test_m_h_dev, y_test_m_h_dev = test_m_h_dev[predictors_m_h_dev], test_m_h_dev[targets[2]]\n",
    "\n",
    "# Initialize QuantileTransformer for the target column\n",
    "x_scaler_m_h_dev = StandardScaler()\n",
    "\n",
    "# Scale X (features)\n",
    "X_train_scaled_m_h_dev = x_scaler_m_h_dev.fit_transform(X_train_m_h_dev)\n",
    "X_test_scaled_m_h_dev = x_scaler_m_h_dev.transform(X_test_m_h_dev)"
   ]
  },
  {
   "cell_type": "markdown",
   "id": "631849d5-da28-4559-9c20-f047c961f08a",
   "metadata": {},
   "source": [
    "#### Linear quantile regression"
   ]
  },
  {
   "cell_type": "code",
   "execution_count": null,
   "id": "ca1169e8-5836-49d9-acbc-5417a3840e13",
   "metadata": {
    "scrolled": true
   },
   "outputs": [],
   "source": [
    "start_t = time.time()\n",
    "models_lqr_m_h_dev, predictions_lqr_m_h_dev = store_ml_model_data('Linear model', \n",
    "                                                                  X_train_scaled_m_h_dev, \n",
    "                                                                  y_train_m_h_dev, \n",
    "                                                                  X_test_scaled_m_h_dev, \n",
    "                                                                  y_test_m_h_dev, \n",
    "                                                                  k_folds, \n",
    "                                                                  quantiles)\n",
    "finish_t = time.time()"
   ]
  },
  {
   "cell_type": "code",
   "execution_count": null,
   "id": "02796351-f541-416c-b136-58d796befc84",
   "metadata": {},
   "outputs": [],
   "source": [
    "print(f'Computational time: {(finish_t - start_t):.2f}s')"
   ]
  },
  {
   "cell_type": "code",
   "execution_count": null,
   "id": "75a6fcab-79f8-4ba5-b3e9-2853a5547343",
   "metadata": {
    "scrolled": true
   },
   "outputs": [],
   "source": [
    "plot_predict_scatter(X_test_m_h_dev, y_test_m_h_dev, predictions_lqr_m_h_dev, quantiles, predictors_m_h_dev, targets[2])"
   ]
  },
  {
   "cell_type": "markdown",
   "id": "47a5c62a-8f2a-426c-ac4c-a9d89e78a5aa",
   "metadata": {
    "jp-MarkdownHeadingCollapsed": true
   },
   "source": [
    "#### Gradient boosted trees quantile regression"
   ]
  },
  {
   "cell_type": "code",
   "execution_count": null,
   "id": "00240b2a-85b4-472a-9a23-c7443aaa8c67",
   "metadata": {},
   "outputs": [],
   "source": [
    "start_t = time.time()\n",
    "models_gt_m_h_dev, predictions_gt_m_h_dev = store_ml_model_data('Gradient trees', \n",
    "                                                                X_train_scaled_m_h_dev, \n",
    "                                                                y_train_m_h_dev, \n",
    "                                                                X_test_scaled_m_h_dev, \n",
    "                                                                y_test_m_h_dev, \n",
    "                                                                k_folds, \n",
    "                                                                quantiles)\n",
    "finish_t = time.time()"
   ]
  },
  {
   "cell_type": "code",
   "execution_count": null,
   "id": "ef5c02c4-3be2-4207-9a80-1bf092f0a9b3",
   "metadata": {},
   "outputs": [],
   "source": [
    "print(f'Computational time: {(finish_t - start_t):.2f}s')"
   ]
  },
  {
   "cell_type": "code",
   "execution_count": null,
   "id": "ad912194-b842-463f-ae71-2f3aa54d9325",
   "metadata": {},
   "outputs": [],
   "source": [
    "plot_predict_scatter(X_test_m_h_dev, y_test_m_h_dev, predictions_gt_m_h_dev, quantiles, predictors_m_h_dev, targets[2])"
   ]
  },
  {
   "cell_type": "markdown",
   "id": "18f903fc-1721-4eee-8a08-167882cdb29e",
   "metadata": {},
   "source": [
    "#### Histogram-based gradient trees quantile regression"
   ]
  },
  {
   "cell_type": "code",
   "execution_count": null,
   "id": "8c7d4395-3c9b-4469-a13e-275f10fabcef",
   "metadata": {},
   "outputs": [],
   "source": [
    "start_t = time.time()\n",
    "models_hbgt_m_h_dev, predictions_hbgt_m_h_dev = store_ml_model_data('Histogram-based gradient trees', \n",
    "                                                                    X_train_scaled_m_h_dev, \n",
    "                                                                    y_train_m_h_dev, \n",
    "                                                                    X_test_scaled_m_h_dev, \n",
    "                                                                    y_test_m_h_dev, \n",
    "                                                                    k_folds, \n",
    "                                                                    quantiles)\n",
    "finish_t = time.time()"
   ]
  },
  {
   "cell_type": "code",
   "execution_count": null,
   "id": "7510ae7b-cae4-41f1-a6e4-350477734903",
   "metadata": {},
   "outputs": [],
   "source": [
    "print(f'Computational time: {(finish_t - start_t):.2f}s')"
   ]
  },
  {
   "cell_type": "code",
   "execution_count": null,
   "id": "5d9c204b-3c8b-4909-bfa0-ffa5ea4ebaa4",
   "metadata": {},
   "outputs": [],
   "source": [
    "plot_predict_scatter(X_test_m_h_dev, y_test_m_h_dev, predictions_hbgt_m_h_dev, quantiles, predictors_m_h_dev, targets[2])"
   ]
  },
  {
   "cell_type": "markdown",
   "id": "3d25dde9-937f-4fd9-ac88-9849b5ca03b3",
   "metadata": {},
   "source": [
    "### Post-blast detection depth prediction"
   ]
  },
  {
   "cell_type": "markdown",
   "id": "fe6a06fd-bfd3-41a0-96d5-9f1c1f729d70",
   "metadata": {},
   "source": [
    "#### Feature selection"
   ]
  },
  {
   "cell_type": "code",
   "execution_count": null,
   "id": "949fdcdd-c4bb-4cfe-adbd-0b9b7975ffa3",
   "metadata": {},
   "outputs": [],
   "source": [
    "plot_binned_scatterplots(df, 'det_h', 'det_depth', bin_list=[5, 10, 15], tau=0.8)"
   ]
  },
  {
   "cell_type": "markdown",
   "id": "5bad7268-c178-4322-b14f-f1c0ad983fcd",
   "metadata": {},
   "source": [
    "#### Training preparation"
   ]
  },
  {
   "cell_type": "code",
   "execution_count": null,
   "id": "59a871d2-4a66-4963-85c9-6305271a46eb",
   "metadata": {},
   "outputs": [],
   "source": [
    "k_folds = 5\n",
    "partition = 0.2"
   ]
  },
  {
   "cell_type": "code",
   "execution_count": null,
   "id": "f2a60131-ada2-4ee9-93ef-b88a7b538560",
   "metadata": {},
   "outputs": [],
   "source": [
    "predictors_det_depth = [\n",
    "    'det_h'\n",
    "]"
   ]
  },
  {
   "cell_type": "code",
   "execution_count": null,
   "id": "e612f0ae-71fc-4fe0-aa1d-71692dd63f0e",
   "metadata": {},
   "outputs": [],
   "source": [
    "train_det_depth, test_det_depth = train_test_split(df, test_size=partition, random_state=42)\n",
    "\n",
    "# Separate features and target\n",
    "X_train_det_depth, y_train_det_depth = train_det_depth[predictors_det_depth], train_det_depth[targets[3]]\n",
    "X_test_det_depth, y_test_det_depth = test_det_depth[predictors_det_depth], test_det_depth[targets[3]]\n",
    "\n",
    "# Initialize QuantileTransformer for the target column\n",
    "x_scaler_det_depth = StandardScaler()\n",
    "\n",
    "# Scale X (features)\n",
    "X_train_scaled_det_depth = x_scaler_det_depth.fit_transform(X_train_det_depth)\n",
    "X_test_scaled_det_depth = x_scaler_det_depth.transform(X_test_det_depth)"
   ]
  },
  {
   "cell_type": "markdown",
   "id": "f5f8ffde-e5f0-4b66-9dd9-5dc1982382e5",
   "metadata": {},
   "source": [
    "#### Linear qunatile regression"
   ]
  },
  {
   "cell_type": "code",
   "execution_count": null,
   "id": "6de6c97c-63b8-4f72-8826-be2ad52694f4",
   "metadata": {
    "scrolled": true
   },
   "outputs": [],
   "source": [
    "start_t = time.time()\n",
    "models_lqr_det_depth, predictions_lqr_det_depth = store_ml_model_data('Linear model', \n",
    "                                                                      X_train_scaled_det_depth, \n",
    "                                                                      y_train_det_depth, \n",
    "                                                                      X_test_scaled_det_depth, \n",
    "                                                                      y_test_det_depth, \n",
    "                                                                      k_folds, \n",
    "                                                                      quantiles)\n",
    "finish_t = time.time()"
   ]
  },
  {
   "cell_type": "code",
   "execution_count": null,
   "id": "4772b79e-9ca4-4e37-a0cb-da9e02316c16",
   "metadata": {},
   "outputs": [],
   "source": [
    "print(f'Computational time: {(finish_t - start_t):.2f}s')"
   ]
  },
  {
   "cell_type": "code",
   "execution_count": null,
   "id": "4c9a4e80-37b2-4304-8f12-ffcdf4689a18",
   "metadata": {},
   "outputs": [],
   "source": [
    "plot_predict_scatter(X_test_det_depth, y_test_det_depth, predictions_lqr_det_depth, quantiles, predictors_det_depth, targets[3])"
   ]
  },
  {
   "cell_type": "markdown",
   "id": "59f256e4-2d3c-4625-b1f1-b5b150f6a02b",
   "metadata": {},
   "source": [
    "#### Gradient boosted trees quantile regression"
   ]
  },
  {
   "cell_type": "code",
   "execution_count": null,
   "id": "0882136d-fd69-438c-b080-5d3d16ba2e40",
   "metadata": {},
   "outputs": [],
   "source": [
    "start_t = time.time()\n",
    "models_gt_det_depth, predictions_gt_det_depth = store_ml_model_data('Gradient trees', \n",
    "                                                                    X_train_scaled_det_depth, \n",
    "                                                                    y_train_det_depth, \n",
    "                                                                    X_test_scaled_det_depth, \n",
    "                                                                    y_test_det_depth, \n",
    "                                                                    k_folds, \n",
    "                                                                    quantiles)\n",
    "finish_t = time.time()"
   ]
  },
  {
   "cell_type": "code",
   "execution_count": null,
   "id": "c95c8a96-79f5-499d-a540-36535941d184",
   "metadata": {},
   "outputs": [],
   "source": [
    "print(f'Computational time: {(finish_t - start_t):.2f}s')"
   ]
  },
  {
   "cell_type": "code",
   "execution_count": null,
   "id": "d53cd2da-ad80-4f48-abe5-c522121cb633",
   "metadata": {},
   "outputs": [],
   "source": [
    "plot_predict_scatter(X_test_det_depth, y_test_det_depth, predictions_gt_det_depth, quantiles, predictors_det_depth, targets[3])"
   ]
  },
  {
   "cell_type": "markdown",
   "id": "4350a313-2084-405a-a17c-76dc648a1deb",
   "metadata": {},
   "source": [
    "#### Histogram-based gradient trees quantile regression"
   ]
  },
  {
   "cell_type": "code",
   "execution_count": null,
   "id": "cf377f7a-e49c-4e4c-b451-d6771031bb19",
   "metadata": {},
   "outputs": [],
   "source": [
    "start_t = time.time()\n",
    "models_hbgt_det_depth, predictions_hbgt_det_depth = store_ml_model_data('Histogram-based gradient trees', \n",
    "                                                                        X_train_scaled_det_depth, \n",
    "                                                                        y_train_det_depth, \n",
    "                                                                        X_test_scaled_det_depth, \n",
    "                                                                        y_test_det_depth, \n",
    "                                                                        k_folds, \n",
    "                                                                        quantiles)\n",
    "finish_t = time.time()"
   ]
  },
  {
   "cell_type": "code",
   "execution_count": null,
   "id": "87fe086b-0412-429d-aeda-04dd241d3e6c",
   "metadata": {},
   "outputs": [],
   "source": [
    "print(f'Computational time: {(finish_t - start_t):.2f}s')"
   ]
  },
  {
   "cell_type": "code",
   "execution_count": null,
   "id": "dbd78763-5bc5-435b-ba35-77e08689d0af",
   "metadata": {},
   "outputs": [],
   "source": [
    "plot_predict_scatter(X_test_det_depth, y_test_det_depth, predictions_hbgt_det_depth, quantiles, predictors_det_depth, targets[3])"
   ]
  },
  {
   "cell_type": "markdown",
   "id": "21969985-c00b-4964-a783-f0caee945221",
   "metadata": {},
   "source": [
    "### Model comparison and practical evaluation"
   ]
  },
  {
   "cell_type": "markdown",
   "id": "c8f61aac-7718-4165-a75e-51f5602b876f",
   "metadata": {},
   "source": [
    "In roder to evaluate all models and determine their practilcal use, a function was defined which can plot the predicted conditional CDF of a target feature for an arbitrary set of conditions."
   ]
  },
  {
   "cell_type": "code",
   "execution_count": null,
   "id": "e9815c3f-c076-49f8-b3dc-12289a4e3607",
   "metadata": {},
   "outputs": [],
   "source": [
    "def plot_pred_cdf(index, pred_dict, target):\n",
    "    y = []\n",
    "    x_lqr = []\n",
    "    x_gt = []\n",
    "    x_hbgt = []\n",
    "\n",
    "    plt.figure(figsize=(7, 4))\n",
    "    for i in pred_dict['lqr'].keys():\n",
    "        y.append(i)\n",
    "        x_lqr.append(pred_dict['lqr'][i][index])\n",
    "        x_gt.append(pred_dict['gt'][i][index])\n",
    "        x_hbgt.append(pred_dict['hbgt'][i][index])\n",
    "    plt.plot(x_lqr, y, color='tab:blue', label='Linear model')\n",
    "    plt.plot(x_gt, y, color='tab:orange', label='Gradient trees')\n",
    "    plt.plot(x_hbgt, y, color='tab:green', label='Histogram-based GT')\n",
    "    plt.legend()\n",
    "    plt.title('Predicted observation CDF')\n",
    "    plt.ylabel('Cumulative Density')"
   ]
  },
  {
   "cell_type": "markdown",
   "id": "bd2d6b6a-1f22-4d2b-8d61-b30fae617bc1",
   "metadata": {},
   "source": [
    "An arbitrary sample index can be used to examine the level of agreement between all models and the quality of reproducing the conditional distribution of all predicted blast movement features."
   ]
  },
  {
   "cell_type": "code",
   "execution_count": null,
   "id": "d3a8259e-535e-4297-b202-1f8c57d7c590",
   "metadata": {},
   "outputs": [],
   "source": [
    "sample_index = 123"
   ]
  },
  {
   "cell_type": "code",
   "execution_count": null,
   "id": "8145470d-3c0b-485b-a5ef-31ac373c3bd8",
   "metadata": {},
   "outputs": [],
   "source": [
    "pred_dict_m_h_ff = {\n",
    "    'lqr': predictions_lqr_m_h_ff,\n",
    "    'gt': predictions_gt_m_h_ff,\n",
    "    'hbgt': predictions_hbgt_m_h_ff,\n",
    "}\n",
    "\n",
    "plot_pred_cdf(sample_index, pred_dict_m_h_ff, 'm_h_ff')\n",
    "\n",
    "plt.xlabel('m_h_ff')\n",
    "plt.show()"
   ]
  },
  {
   "cell_type": "markdown",
   "id": "c76c1b49-ada1-481e-96c9-ba6e6a5a1b40",
   "metadata": {},
   "source": [
    "The first results is very good. It shows a good agreement for all models for all parts of the CDF. The least amount of agreement is observed near the median, however, this is due to the larger quantile error in this region."
   ]
  },
  {
   "cell_type": "code",
   "execution_count": null,
   "id": "7b492ae0-9c55-4413-b138-096a252f8121",
   "metadata": {},
   "outputs": [],
   "source": [
    "pred_dict_m_v = {\n",
    "    'lqr': predictions_lqr_m_v,\n",
    "    'gt': predictions_gt_m_v,\n",
    "    'hbgt': predictions_hbgt_m_v,\n",
    "}\n",
    "\n",
    "plot_pred_cdf(sample_index, pred_dict_m_v, 'm_v')\n",
    "plt.xlabel('m_v')\n",
    "plt.show()"
   ]
  },
  {
   "cell_type": "markdown",
   "id": "d946d87d-559d-4050-99af-4a0d6804362b",
   "metadata": {},
   "source": [
    "Alhough the Histogram-based regression model is quicker it fails to capture some peculiarities of the conditional distribution. Nonetheles, all models perform evidently well, including on the tails of the distribution."
   ]
  },
  {
   "cell_type": "code",
   "execution_count": null,
   "id": "31eb3a40-a113-4e61-9bed-626f48a1d5ee",
   "metadata": {},
   "outputs": [],
   "source": [
    "pred_dict_m_h_dev = {\n",
    "    'lqr': predictions_lqr_m_h_dev,\n",
    "    'gt': predictions_gt_m_h_dev,\n",
    "    'hbgt': predictions_hbgt_m_h_dev,\n",
    "}\n",
    "\n",
    "plot_pred_cdf(sample_index, pred_dict_m_h_dev, 'm_h_dev')\n",
    "plt.xlabel('m_h_dev')\n",
    "plt.show()"
   ]
  },
  {
   "cell_type": "markdown",
   "id": "f5b68f64-aa29-4fe2-8696-eee24d2090d3",
   "metadata": {},
   "source": [
    "It would seem that there is a good agreement for all models for this parameter. Moreover, the estimated CDF is not fully flat, which indicates a non-uniform behavor."
   ]
  },
  {
   "cell_type": "code",
   "execution_count": null,
   "id": "e278634d-277c-4729-bae8-23043590493f",
   "metadata": {},
   "outputs": [],
   "source": [
    "pred_dict_det_depth = {\n",
    "    'lqr': predictions_lqr_det_depth,\n",
    "    'gt': predictions_gt_det_depth,\n",
    "    'hbgt': predictions_hbgt_det_depth,\n",
    "}\n",
    "\n",
    "plot_pred_cdf(sample_index, pred_dict_det_depth, 'det_depth')\n",
    "plt.xlabel('det_depth')\n",
    "plt.show()"
   ]
  },
  {
   "cell_type": "markdown",
   "id": "7d4d6e99-1a02-4203-9e91-f5f4cde1ebeb",
   "metadata": {},
   "source": [
    "Once, more the CDF function seems to be estimated well by all models, disregarding the potential addition of artifacts. However, the linear model seems to be more biased towards smaller values for the detection depth."
   ]
  },
  {
   "cell_type": "markdown",
   "id": "e57c01fa-9fde-4f5b-aa60-4a0bc1d3fd78",
   "metadata": {},
   "source": [
    "## Models deployment"
   ]
  },
  {
   "cell_type": "markdown",
   "id": "66c2d6ba-5787-4e3b-aec7-aa57abf6a716",
   "metadata": {},
   "source": [
    "Now that we know that the considered regressors can model the conditional distribution of certain engineering conditions based on the assumed features, let's export all integer-value percentiles between 1 and 99 for the purpose of using them for conditional simulation, based on a random draw of a regression model, corresponding to each percentile.\n",
    "\n",
    "Although certain artifacts can be introduced in the predicted distribution, based on all regressors, the overall predicted distribution follows the actual one or the one, which can be estimated through a best-fit parametric model. Hence, for practical use a random draw of a regressor is assumed to be a good alternative for a trial simulation,"
   ]
  },
  {
   "cell_type": "code",
   "execution_count": null,
   "id": "6d0b2aa9-c98b-497f-a929-009449509f23",
   "metadata": {},
   "outputs": [],
   "source": [
    "import joblib\n",
    "import os"
   ]
  },
  {
   "cell_type": "code",
   "execution_count": null,
   "id": "5a5807c4-4506-44dd-bed7-03dfd2f3899b",
   "metadata": {},
   "outputs": [],
   "source": [
    "quantiles = np.arange(0.01, 1.0, 0.01)"
   ]
  },
  {
   "cell_type": "code",
   "execution_count": null,
   "id": "b1382abe-27c6-46d1-b3c3-8f102ce577fd",
   "metadata": {},
   "outputs": [],
   "source": [
    "all_models_lqr_m_h_ff, all_predictions_lqr_m_h_ff = store_ml_model_data('Linear model', \n",
    "                                                                        X_train_scaled_m_h_ff, \n",
    "                                                                        y_train_m_h_ff, \n",
    "                                                                        X_test_scaled_m_h_ff, \n",
    "                                                                        y_test_m_h_ff, \n",
    "                                                                        k_folds, \n",
    "                                                                        quantiles)"
   ]
  },
  {
   "cell_type": "code",
   "execution_count": null,
   "id": "9f5c3856-6ff9-4568-a6d3-3416e8e6ce4b",
   "metadata": {},
   "outputs": [],
   "source": [
    "all_models_lqr_m_v, all_predictions_lqr_m_v = store_ml_model_data('Linear model', \n",
    "                                                                  X_train_scaled_m_v, \n",
    "                                                                  y_train_m_v, \n",
    "                                                                  X_test_scaled_m_v, \n",
    "                                                                  y_test_m_v, \n",
    "                                                                  k_folds, \n",
    "                                                                  quantiles)"
   ]
  },
  {
   "cell_type": "code",
   "execution_count": null,
   "id": "dfba5842-00fa-4744-812d-940dd74dbe44",
   "metadata": {},
   "outputs": [],
   "source": [
    "all_models_lqr_m_h_dev, all_predictions_lqr_m_h_dev = store_ml_model_data('Linear model', \n",
    "                                                                  X_train_scaled_m_h_dev, \n",
    "                                                                  y_train_m_h_dev, \n",
    "                                                                  X_test_scaled_m_h_dev, \n",
    "                                                                  y_test_m_h_dev, \n",
    "                                                                  k_folds, \n",
    "                                                                  quantiles)"
   ]
  },
  {
   "cell_type": "code",
   "execution_count": null,
   "id": "13ba86e6-535b-4fd6-ac4c-2fb39e0872e3",
   "metadata": {},
   "outputs": [],
   "source": [
    "all_models_lqr_det_depth, all_predictions_lqr_det_depth = store_ml_model_data('Linear model', \n",
    "                                                                              X_train_scaled_det_depth, \n",
    "                                                                              y_train_det_depth, \n",
    "                                                                              X_test_scaled_det_depth, \n",
    "                                                                              y_test_det_depth, \n",
    "                                                                              k_folds, \n",
    "                                                                              quantiles)"
   ]
  },
  {
   "cell_type": "markdown",
   "id": "7c5edd38-3ecc-45ef-aaac-474b280e5d58",
   "metadata": {},
   "source": [
    "Everything seems to be in order. Most quantile losses are low, which is indicative that for a trial process the conditional simulation can be based on a random draw of a regression model.\n",
    "\n",
    "Last but not least, we need to export all models for the simulation stage of the project."
   ]
  },
  {
   "cell_type": "code",
   "execution_count": null,
   "id": "be8feb7d-dfe8-4db6-b799-eb758040b531",
   "metadata": {},
   "outputs": [],
   "source": [
    "import joblib\n",
    "import pickle"
   ]
  },
  {
   "cell_type": "code",
   "execution_count": null,
   "id": "1bb047c8-ff93-4b83-b81d-60157e43f904",
   "metadata": {
    "scrolled": true
   },
   "outputs": [],
   "source": [
    "target_names = ['m_h_ff', 'm_v', 'm_h_dev', 'det_depth']\n",
    "model_folder = \"New Models\"\n",
    "model_dicts = {\n",
    "    'm_h_ff': all_models_lqr_m_h_ff,\n",
    "    'm_v': all_models_lqr_m_v,\n",
    "    'm_h_dev': all_models_lqr_m_h_dev,\n",
    "    'det_depth': all_models_lqr_det_depth\n",
    "}\n",
    "\n",
    "for q in quantiles:\n",
    "    q = np.round(q, 2)\n",
    "    for target in target_names:\n",
    "        target_folder = os.path.join(model_folder, target)\n",
    "        os.makedirs(target_folder, exist_ok=True)\n",
    "        \n",
    "        model_file = f\"regressor_model_{target}_{q}.pkl\"\n",
    "        model_path = os.path.join(target_folder, model_file)\n",
    "        \n",
    "        model_to_save = model_dicts[target].get(q)\n",
    "        if model_to_save:\n",
    "            joblib.dump(model_to_save, model_path)\n",
    "            print(f\"Model {target}_{q} saved to {model_path}\")\n",
    "        else:\n",
    "            print(f\"No model found for {target}_{q}\")"
   ]
  },
  {
   "cell_type": "code",
   "execution_count": null,
   "id": "9af6b062-5f12-4f0d-acc8-28362647f3a8",
   "metadata": {},
   "outputs": [],
   "source": [
    "for target in target_names:\n",
    "    target_folder = os.path.join(model_folder, target)\n",
    "    os.makedirs(target_folder, exist_ok=True)\n",
    "    model_file = f'x_scaler_{target}.pkl'\n",
    "    model_path = os.path.join(target_folder, model_file)\n",
    "    \n",
    "    if target == 'm_h_ff':\n",
    "        joblib.dump(x_scaler_m_h_ff, model_path)\n",
    "    elif target == 'm_v':\n",
    "        joblib.dump(x_scaler_m_v, model_path)\n",
    "    elif target == 'm_h_dev':\n",
    "        joblib.dump(x_scaler_m_h_dev, model_path)\n",
    "    elif target == 'det_depth':\n",
    "        joblib.dump(x_scaler_det_depth, model_path)\n",
    "\n",
    "    print(f\"Scaler {target} saved to {model_path}\")"
   ]
  },
  {
   "cell_type": "markdown",
   "id": "71cb80b9-792b-42f4-b84e-7d99022fe5ee",
   "metadata": {},
   "source": [
    "## Conclusions"
   ]
  },
  {
   "cell_type": "markdown",
   "id": "2f8787a2-a3b2-42a4-ae97-dabb2f7098c0",
   "metadata": {},
   "source": [
    "All considered models seem to capture the overall distribution of the sampled engineering conditions, deeming the potentially feasible for real-life implementation. Hence, a chained regression strategy, based on quantile regression is suitable for the obtained dataset.\n",
    "Moreover, given that certain quantiles are predicted, a parametric model, based on CDF-fitting can be obtained for the purpose of conditional simulation."
   ]
  },
  {
   "cell_type": "markdown",
   "id": "015f991d-98db-4db0-a1e4-a3fc6edc0299",
   "metadata": {},
   "source": [
    "So far a linear model seems to be well-suited in terms of predictive capacity, as well fast enough both for training and predictions. Hence, a trial use case is based on its implementation. Please check **Vol. 3** for a demo of using the exported models, used for simulating blast movement."
   ]
  },
  {
   "cell_type": "code",
   "execution_count": null,
   "id": "02c71c9d-aa2b-4c17-9ab1-d3e3bfe84ddf",
   "metadata": {},
   "outputs": [],
   "source": []
  }
 ],
 "metadata": {
  "kernelspec": {
   "display_name": "Python 3 (ipykernel)",
   "language": "python",
   "name": "python3"
  },
  "language_info": {
   "codemirror_mode": {
    "name": "ipython",
    "version": 3
   },
   "file_extension": ".py",
   "mimetype": "text/x-python",
   "name": "python",
   "nbconvert_exporter": "python",
   "pygments_lexer": "ipython3",
   "version": "3.12.4"
  }
 },
 "nbformat": 4,
 "nbformat_minor": 5
}
